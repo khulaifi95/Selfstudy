{
 "cells": [
  {
   "cell_type": "code",
   "execution_count": 3,
   "metadata": {},
   "outputs": [],
   "source": [
    "import numpy as np\n",
    "import pandas as pd\n",
    "import matplotlib.pyplot as plt\n",
    "import seaborn as sns\n",
    "import warnings\n",
    "\n",
    "warnings.filterwarnings('ignore')\n",
    "plt.style.use('ggplot')"
   ]
  },
  {
   "cell_type": "markdown",
   "metadata": {},
   "source": [
    "## 1. Import Dataset"
   ]
  },
  {
   "cell_type": "code",
   "execution_count": 5,
   "metadata": {},
   "outputs": [],
   "source": [
    "train = pd.read_csv('train.csv')\n",
    "test = pd.read_csv('test.csv')"
   ]
  },
  {
   "cell_type": "code",
   "execution_count": 6,
   "metadata": {},
   "outputs": [
    {
     "data": {
      "text/html": [
       "<div>\n",
       "<style scoped>\n",
       "    .dataframe tbody tr th:only-of-type {\n",
       "        vertical-align: middle;\n",
       "    }\n",
       "\n",
       "    .dataframe tbody tr th {\n",
       "        vertical-align: top;\n",
       "    }\n",
       "\n",
       "    .dataframe thead th {\n",
       "        text-align: right;\n",
       "    }\n",
       "</style>\n",
       "<table border=\"1\" class=\"dataframe\">\n",
       "  <thead>\n",
       "    <tr style=\"text-align: right;\">\n",
       "      <th></th>\n",
       "      <th>Id</th>\n",
       "      <th>MSSubClass</th>\n",
       "      <th>MSZoning</th>\n",
       "      <th>LotFrontage</th>\n",
       "      <th>LotArea</th>\n",
       "      <th>Street</th>\n",
       "      <th>Alley</th>\n",
       "      <th>LotShape</th>\n",
       "      <th>LandContour</th>\n",
       "      <th>Utilities</th>\n",
       "      <th>...</th>\n",
       "      <th>PoolArea</th>\n",
       "      <th>PoolQC</th>\n",
       "      <th>Fence</th>\n",
       "      <th>MiscFeature</th>\n",
       "      <th>MiscVal</th>\n",
       "      <th>MoSold</th>\n",
       "      <th>YrSold</th>\n",
       "      <th>SaleType</th>\n",
       "      <th>SaleCondition</th>\n",
       "      <th>SalePrice</th>\n",
       "    </tr>\n",
       "  </thead>\n",
       "  <tbody>\n",
       "    <tr>\n",
       "      <th>0</th>\n",
       "      <td>1</td>\n",
       "      <td>60</td>\n",
       "      <td>RL</td>\n",
       "      <td>65.0</td>\n",
       "      <td>8450</td>\n",
       "      <td>Pave</td>\n",
       "      <td>NaN</td>\n",
       "      <td>Reg</td>\n",
       "      <td>Lvl</td>\n",
       "      <td>AllPub</td>\n",
       "      <td>...</td>\n",
       "      <td>0</td>\n",
       "      <td>NaN</td>\n",
       "      <td>NaN</td>\n",
       "      <td>NaN</td>\n",
       "      <td>0</td>\n",
       "      <td>2</td>\n",
       "      <td>2008</td>\n",
       "      <td>WD</td>\n",
       "      <td>Normal</td>\n",
       "      <td>208500</td>\n",
       "    </tr>\n",
       "    <tr>\n",
       "      <th>1</th>\n",
       "      <td>2</td>\n",
       "      <td>20</td>\n",
       "      <td>RL</td>\n",
       "      <td>80.0</td>\n",
       "      <td>9600</td>\n",
       "      <td>Pave</td>\n",
       "      <td>NaN</td>\n",
       "      <td>Reg</td>\n",
       "      <td>Lvl</td>\n",
       "      <td>AllPub</td>\n",
       "      <td>...</td>\n",
       "      <td>0</td>\n",
       "      <td>NaN</td>\n",
       "      <td>NaN</td>\n",
       "      <td>NaN</td>\n",
       "      <td>0</td>\n",
       "      <td>5</td>\n",
       "      <td>2007</td>\n",
       "      <td>WD</td>\n",
       "      <td>Normal</td>\n",
       "      <td>181500</td>\n",
       "    </tr>\n",
       "    <tr>\n",
       "      <th>2</th>\n",
       "      <td>3</td>\n",
       "      <td>60</td>\n",
       "      <td>RL</td>\n",
       "      <td>68.0</td>\n",
       "      <td>11250</td>\n",
       "      <td>Pave</td>\n",
       "      <td>NaN</td>\n",
       "      <td>IR1</td>\n",
       "      <td>Lvl</td>\n",
       "      <td>AllPub</td>\n",
       "      <td>...</td>\n",
       "      <td>0</td>\n",
       "      <td>NaN</td>\n",
       "      <td>NaN</td>\n",
       "      <td>NaN</td>\n",
       "      <td>0</td>\n",
       "      <td>9</td>\n",
       "      <td>2008</td>\n",
       "      <td>WD</td>\n",
       "      <td>Normal</td>\n",
       "      <td>223500</td>\n",
       "    </tr>\n",
       "    <tr>\n",
       "      <th>3</th>\n",
       "      <td>4</td>\n",
       "      <td>70</td>\n",
       "      <td>RL</td>\n",
       "      <td>60.0</td>\n",
       "      <td>9550</td>\n",
       "      <td>Pave</td>\n",
       "      <td>NaN</td>\n",
       "      <td>IR1</td>\n",
       "      <td>Lvl</td>\n",
       "      <td>AllPub</td>\n",
       "      <td>...</td>\n",
       "      <td>0</td>\n",
       "      <td>NaN</td>\n",
       "      <td>NaN</td>\n",
       "      <td>NaN</td>\n",
       "      <td>0</td>\n",
       "      <td>2</td>\n",
       "      <td>2006</td>\n",
       "      <td>WD</td>\n",
       "      <td>Abnorml</td>\n",
       "      <td>140000</td>\n",
       "    </tr>\n",
       "    <tr>\n",
       "      <th>4</th>\n",
       "      <td>5</td>\n",
       "      <td>60</td>\n",
       "      <td>RL</td>\n",
       "      <td>84.0</td>\n",
       "      <td>14260</td>\n",
       "      <td>Pave</td>\n",
       "      <td>NaN</td>\n",
       "      <td>IR1</td>\n",
       "      <td>Lvl</td>\n",
       "      <td>AllPub</td>\n",
       "      <td>...</td>\n",
       "      <td>0</td>\n",
       "      <td>NaN</td>\n",
       "      <td>NaN</td>\n",
       "      <td>NaN</td>\n",
       "      <td>0</td>\n",
       "      <td>12</td>\n",
       "      <td>2008</td>\n",
       "      <td>WD</td>\n",
       "      <td>Normal</td>\n",
       "      <td>250000</td>\n",
       "    </tr>\n",
       "  </tbody>\n",
       "</table>\n",
       "<p>5 rows × 81 columns</p>\n",
       "</div>"
      ],
      "text/plain": [
       "   Id  MSSubClass MSZoning  LotFrontage  LotArea Street Alley LotShape  \\\n",
       "0   1          60       RL         65.0     8450   Pave   NaN      Reg   \n",
       "1   2          20       RL         80.0     9600   Pave   NaN      Reg   \n",
       "2   3          60       RL         68.0    11250   Pave   NaN      IR1   \n",
       "3   4          70       RL         60.0     9550   Pave   NaN      IR1   \n",
       "4   5          60       RL         84.0    14260   Pave   NaN      IR1   \n",
       "\n",
       "  LandContour Utilities  ... PoolArea PoolQC Fence MiscFeature MiscVal MoSold  \\\n",
       "0         Lvl    AllPub  ...        0    NaN   NaN         NaN       0      2   \n",
       "1         Lvl    AllPub  ...        0    NaN   NaN         NaN       0      5   \n",
       "2         Lvl    AllPub  ...        0    NaN   NaN         NaN       0      9   \n",
       "3         Lvl    AllPub  ...        0    NaN   NaN         NaN       0      2   \n",
       "4         Lvl    AllPub  ...        0    NaN   NaN         NaN       0     12   \n",
       "\n",
       "  YrSold  SaleType  SaleCondition  SalePrice  \n",
       "0   2008        WD         Normal     208500  \n",
       "1   2007        WD         Normal     181500  \n",
       "2   2008        WD         Normal     223500  \n",
       "3   2006        WD        Abnorml     140000  \n",
       "4   2008        WD         Normal     250000  \n",
       "\n",
       "[5 rows x 81 columns]"
      ]
     },
     "execution_count": 6,
     "metadata": {},
     "output_type": "execute_result"
    }
   ],
   "source": [
    "train.head()"
   ]
  },
  {
   "cell_type": "code",
   "execution_count": 13,
   "metadata": {},
   "outputs": [
    {
     "data": {
      "text/plain": [
       "(1460, 81)"
      ]
     },
     "execution_count": 13,
     "metadata": {},
     "output_type": "execute_result"
    }
   ],
   "source": [
    "train.shape"
   ]
  },
  {
   "cell_type": "code",
   "execution_count": 10,
   "metadata": {},
   "outputs": [
    {
     "data": {
      "text/plain": [
       "Text(0, 0.5, 'Sales Price')"
      ]
     },
     "execution_count": 10,
     "metadata": {},
     "output_type": "execute_result"
    },
    {
     "data": {
      "image/png": "[encoded data removed]",
      "text/plain": [
       "<Figure size 1080x360 with 1 Axes>"
      ]
     },
     "metadata": {},
     "output_type": "display_data"
    }
   ],
   "source": [
    "plt.figure(figsize=(15,5))\n",
    "plt.scatter(train.index, train.SalePrice.sort_values().reset_index(drop=True))\n",
    "plt.title(\"Distribution Plot for Sales Prices\")\n",
    "plt.ylabel(\"Sales Price\")"
   ]
  },
  {
   "cell_type": "markdown",
   "metadata": {},
   "source": [
    "## 2. Handle Missing Values"
   ]
  },
  {
   "cell_type": "code",
   "execution_count": 11,
   "metadata": {},
   "outputs": [
    {
     "data": {
      "text/plain": [
       "<AxesSubplot:>"
      ]
     },
     "execution_count": 11,
     "metadata": {},
     "output_type": "execute_result"
    },
    {
     "data": {
      "image/png": "[encoded data removed]",
      "text/plain": [
       "<Figure size 432x288 with 2 Axes>"
      ]
     },
     "metadata": {},
     "output_type": "display_data"
    }
   ],
   "source": [
    "sns.heatmap(train.isnull(), yticklabels=False, cmap='plasma')"
   ]
  },
  {
   "cell_type": "code",
   "execution_count": 12,
   "metadata": {},
   "outputs": [
    {
     "data": {
      "text/plain": [
       "PoolQC          1453\n",
       "MiscFeature     1406\n",
       "Alley           1369\n",
       "Fence           1179\n",
       "FireplaceQu      690\n",
       "LotFrontage      259\n",
       "GarageYrBlt       81\n",
       "GarageCond        81\n",
       "GarageType        81\n",
       "GarageFinish      81\n",
       "GarageQual        81\n",
       "BsmtFinType2      38\n",
       "BsmtExposure      38\n",
       "BsmtQual          37\n",
       "BsmtCond          37\n",
       "BsmtFinType1      37\n",
       "MasVnrArea         8\n",
       "MasVnrType         8\n",
       "Electrical         1\n",
       "dtype: int64"
      ]
     },
     "execution_count": 12,
     "metadata": {},
     "output_type": "execute_result"
    }
   ],
   "source": [
    "train.isnull().sum().sort_values(ascending=False)[:19]"
   ]
  },
  {
   "cell_type": "code",
   "execution_count": 14,
   "metadata": {},
   "outputs": [
    {
     "data": {
      "text/plain": [
       "259"
      ]
     },
     "execution_count": 14,
     "metadata": {},
     "output_type": "execute_result"
    }
   ],
   "source": [
    "train.LotFrontage.isnull().sum()"
   ]
  },
  {
   "cell_type": "code",
   "execution_count": 15,
   "metadata": {},
   "outputs": [],
   "source": [
    "train['LotFrontage'].fillna(train.LotFrontage.mean(), inplace=True)\n",
    "test['LotFrontage'].fillna(test.LotFrontage.mean(), inplace=True)"
   ]
  },
  {
   "cell_type": "code",
   "execution_count": 16,
   "metadata": {},
   "outputs": [
    {
     "data": {
      "text/plain": [
       "NaN     1369\n",
       "Grvl      50\n",
       "Pave      41\n",
       "Name: Alley, dtype: int64"
      ]
     },
     "execution_count": 16,
     "metadata": {},
     "output_type": "execute_result"
    }
   ],
   "source": [
    "train.Alley.value_counts(dropna=False)"
   ]
  },
  {
   "cell_type": "code",
   "execution_count": 17,
   "metadata": {},
   "outputs": [],
   "source": [
    "train.drop(columns=['Alley'], inplace=True)\n",
    "test.drop(columns=['Alley'], inplace=True)"
   ]
  },
  {
   "cell_type": "code",
   "execution_count": 18,
   "metadata": {},
   "outputs": [],
   "source": [
    "drop = ['GarageYrBlt', 'PoolQC', 'Fence', 'MiscFeature']\n",
    "\n",
    "for col in drop:\n",
    "    train.drop(columns=col, inplace=True)\n",
    "    test.drop(columns=col, inplace=True)"
   ]
  },
  {
   "cell_type": "code",
   "execution_count": 19,
   "metadata": {},
   "outputs": [
    {
     "data": {
      "text/plain": [
       "TA     1311\n",
       "Gd       65\n",
       "Fa       45\n",
       "NaN      37\n",
       "Po        2\n",
       "Name: BsmtCond, dtype: int64"
      ]
     },
     "execution_count": 19,
     "metadata": {},
     "output_type": "execute_result"
    }
   ],
   "source": [
    "train.BsmtCond.value_counts(dropna=False)"
   ]
  },
  {
   "cell_type": "code",
   "execution_count": 20,
   "metadata": {},
   "outputs": [],
   "source": [
    "train['BsmtCond'].fillna(train.BsmtCond.mode()[0], inplace=True)\n",
    "test['BsmtCond'].fillna(test.BsmtCond.mode()[0], inplace=True)"
   ]
  },
  {
   "cell_type": "code",
   "execution_count": 21,
   "metadata": {},
   "outputs": [],
   "source": [
    "rp_mode = ['BsmtQual', 'FireplaceQu', 'GarageType', 'GarageCond', 'GarageFinish', 'GarageQual', \n",
    "        'MasVnrType', 'MasVnrArea', 'BsmtExposure','BsmtFinType2']\n",
    "\n",
    "for col in rp_mode:\n",
    "    train[col].fillna(train[col].mode()[0], inplace=True)\n",
    "    test[col].fillna(test[col].mode()[0], inplace=True)"
   ]
  },
  {
   "cell_type": "code",
   "execution_count": 22,
   "metadata": {},
   "outputs": [
    {
     "data": {
      "text/plain": [
       "BsmtFinType1    37\n",
       "Electrical       1\n",
       "Id               0\n",
       "HalfBath         0\n",
       "Fireplaces       0\n",
       "                ..\n",
       "MasVnrType       0\n",
       "Exterior2nd      0\n",
       "Exterior1st      0\n",
       "RoofMatl         0\n",
       "SalePrice        0\n",
       "Length: 76, dtype: int64"
      ]
     },
     "execution_count": 22,
     "metadata": {},
     "output_type": "execute_result"
    }
   ],
   "source": [
    "train.isnull().sum().sort_values(ascending=False)"
   ]
  },
  {
   "cell_type": "code",
   "execution_count": 23,
   "metadata": {},
   "outputs": [],
   "source": [
    "train.dropna(inplace=True)\n",
    "train.drop(columns=['Id'], inplace=True)"
   ]
  },
  {
   "cell_type": "code",
   "execution_count": 24,
   "metadata": {},
   "outputs": [
    {
     "data": {
      "text/plain": [
       "(1422, 75)"
      ]
     },
     "execution_count": 24,
     "metadata": {},
     "output_type": "execute_result"
    }
   ],
   "source": [
    "train.shape"
   ]
  },
  {
   "cell_type": "code",
   "execution_count": 25,
   "metadata": {},
   "outputs": [
    {
     "data": {
      "text/plain": [
       "BsmtFinType1    42\n",
       "MSZoning         4\n",
       "Functional       2\n",
       "BsmtFullBath     2\n",
       "Utilities        2\n",
       "BsmtHalfBath     2\n",
       "BsmtFinSF1       1\n",
       "Exterior1st      1\n",
       "KitchenQual      1\n",
       "GarageCars       1\n",
       "GarageArea       1\n",
       "TotalBsmtSF      1\n",
       "BsmtFinSF2       1\n",
       "BsmtUnfSF        1\n",
       "SaleType         1\n",
       "Exterior2nd      1\n",
       "Fireplaces       0\n",
       "dtype: int64"
      ]
     },
     "execution_count": 25,
     "metadata": {},
     "output_type": "execute_result"
    }
   ],
   "source": [
    "test.isnull().sum().sort_values(ascending=False)[0:17]"
   ]
  },
  {
   "cell_type": "code",
   "execution_count": 26,
   "metadata": {},
   "outputs": [],
   "source": [
    "test['MSZoning'].fillna(test['MSZoning'].mode()[0], inplace=True)"
   ]
  },
  {
   "cell_type": "code",
   "execution_count": 27,
   "metadata": {},
   "outputs": [],
   "source": [
    "rp_mode_t = ['BsmtFinType1', 'Utilities','BsmtFullBath', 'BsmtHalfBath', 'Functional', 'SaleType', \n",
    "           'Exterior2nd', 'Exterior1st', 'KitchenQual']\n",
    "rp_mean_t = ['GarageCars', 'BsmtFinSF1', 'BsmtFinSF2', 'BsmtUnfSF',  'TotalBsmtSF', 'GarageArea']\n",
    "\n",
    "for col in rp_mode_t:\n",
    "    test[col].fillna(test[col].mode()[0], inplace=True)\n",
    "for col in rp_mean_t:\n",
    "    test[col].fillna(test[col].mean(), inplace=True)"
   ]
  },
  {
   "cell_type": "code",
   "execution_count": 28,
   "metadata": {},
   "outputs": [],
   "source": [
    "test.drop(columns=['Id'], inplace=True)"
   ]
  },
  {
   "cell_type": "code",
   "execution_count": 29,
   "metadata": {},
   "outputs": [
    {
     "data": {
      "text/plain": [
       "(1459, 74)"
      ]
     },
     "execution_count": 29,
     "metadata": {},
     "output_type": "execute_result"
    }
   ],
   "source": [
    "test.shape"
   ]
  },
  {
   "cell_type": "code",
   "execution_count": 30,
   "metadata": {},
   "outputs": [
    {
     "data": {
      "text/plain": [
       "False"
      ]
     },
     "execution_count": 30,
     "metadata": {},
     "output_type": "execute_result"
    }
   ],
   "source": [
    "train.isnull().any().any() and test.isnull().any().any()"
   ]
  },
  {
   "cell_type": "markdown",
   "metadata": {},
   "source": [
    "## 3. Feature Engineering"
   ]
  },
  {
   "cell_type": "code",
   "execution_count": 31,
   "metadata": {},
   "outputs": [],
   "source": [
    "columns = ['MSZoning', 'Street','LotShape', 'LandContour', 'Utilities', 'LotConfig', 'LandSlope',\n",
    "       'Neighborhood', 'Condition1', 'Condition2', 'BldgType', 'HouseStyle', 'RoofStyle', \n",
    "       'RoofMatl', 'Exterior1st', 'Exterior2nd', 'MasVnrType','ExterQual', 'ExterCond', \n",
    "       'Foundation', 'BsmtQual', 'BsmtCond', 'BsmtExposure', 'BsmtFinType1', 'BsmtFinType2',\n",
    "       'Heating', 'HeatingQC', 'CentralAir', 'Electrical','KitchenQual', 'Functional', \n",
    "       'FireplaceQu', 'GarageType', 'GarageFinish','GarageQual', 'GarageCond', 'PavedDrive', \n",
    "       'SaleType', 'SaleCondition']"
   ]
  },
  {
   "cell_type": "code",
   "execution_count": 32,
   "metadata": {},
   "outputs": [
    {
     "data": {
      "text/plain": [
       "39"
      ]
     },
     "execution_count": 32,
     "metadata": {},
     "output_type": "execute_result"
    }
   ],
   "source": [
    "len(columns)"
   ]
  },
  {
   "cell_type": "code",
   "execution_count": 89,
   "metadata": {},
   "outputs": [],
   "source": [
    "final_df = pd.concat([train, test], axis=0)"
   ]
  },
  {
   "cell_type": "code",
   "execution_count": 90,
   "metadata": {},
   "outputs": [
    {
     "data": {
      "text/plain": [
       "(2881, 75)"
      ]
     },
     "execution_count": 90,
     "metadata": {},
     "output_type": "execute_result"
    }
   ],
   "source": [
    "final_df.shape"
   ]
  },
  {
   "cell_type": "code",
   "execution_count": 91,
   "metadata": {},
   "outputs": [],
   "source": [
    "def One_hot_encoding(columns):\n",
    "    df_final = final_df\n",
    "    i = 0\n",
    "    for fields in columns:\n",
    "        df1 = pd.get_dummies(final_df[fields], drop_first=True)\n",
    "        # print(final_df[fields].name)\n",
    "        # print(df1.shape)\n",
    "        # print(df1.columns)\n",
    "        final_df.drop([fields], axis=1, inplace=True)\n",
    "        if i == 0:\n",
    "            df_final = df1.copy()\n",
    "        else:\n",
    "            df_final = pd.concat([df_final, df1], axis=1)\n",
    "        i += 1\n",
    "        \n",
    "    df_final = pd.concat([final_df, df_final], axis=1)\n",
    "    \n",
    "    return df_final"
   ]
  },
  {
   "cell_type": "code",
   "execution_count": 92,
   "metadata": {},
   "outputs": [],
   "source": [
    "final_df = One_hot_encoding(columns)"
   ]
  },
  {
   "cell_type": "code",
   "execution_count": 93,
   "metadata": {},
   "outputs": [
    {
     "data": {
      "text/plain": [
       "(2881, 235)"
      ]
     },
     "execution_count": 93,
     "metadata": {},
     "output_type": "execute_result"
    }
   ],
   "source": [
    "final_df.shape"
   ]
  },
  {
   "cell_type": "code",
   "execution_count": 94,
   "metadata": {},
   "outputs": [],
   "source": [
    "final_df =final_df.loc[:,~final_df.columns.duplicated()]"
   ]
  },
  {
   "cell_type": "code",
   "execution_count": 95,
   "metadata": {},
   "outputs": [],
   "source": [
    "df_train = final_df.iloc[:1422, :]\n",
    "df_test = final_df.iloc[1422:, :]"
   ]
  },
  {
   "cell_type": "code",
   "execution_count": 96,
   "metadata": {},
   "outputs": [],
   "source": [
    "df_test.drop(['SalePrice'], axis=1, inplace=True)"
   ]
  },
  {
   "cell_type": "code",
   "execution_count": 97,
   "metadata": {},
   "outputs": [],
   "source": [
    "X_train = df_train.drop(['SalePrice'], axis=1)\n",
    "y_train = df_train['SalePrice']"
   ]
  },
  {
   "cell_type": "markdown",
   "metadata": {},
   "source": [
    "## 4. Principal Component Analysis"
   ]
  },
  {
   "cell_type": "code",
   "execution_count": 98,
   "metadata": {},
   "outputs": [],
   "source": [
    "from sklearn.preprocessing import StandardScaler\n",
    "\n",
    "X_std = StandardScaler().fit_transform(X_train)\n",
    "my_columns = X_train.columns\n",
    "std_df = pd.DataFrame(X_std, columns = my_columns)"
   ]
  },
  {
   "cell_type": "code",
   "execution_count": 99,
   "metadata": {},
   "outputs": [],
   "source": [
    "from sklearn.decomposition import PCA\n",
    "\n",
    "pca = PCA(n_components=2)\n",
    "pca_df = pca.fit_transform(std_df)"
   ]
  },
  {
   "cell_type": "code",
   "execution_count": 100,
   "metadata": {},
   "outputs": [
    {
     "data": {
      "text/plain": [
       "Text(0, 0.5, 'Second Principal Component')"
      ]
     },
     "execution_count": 100,
     "metadata": {},
     "output_type": "execute_result"
    },
    {
     "data": {
      "image/png": "[encoded data removed]",
      "text/plain": [
       "<Figure size 864x576 with 1 Axes>"
      ]
     },
     "metadata": {},
     "output_type": "display_data"
    }
   ],
   "source": [
    "plt.figure(figsize=(12, 8))\n",
    "plt.scatter(pca_df[:, 0], pca_df[:, 1], c=y_train, cmap='plasma')\n",
    "plt.xlabel('First Principal Component')\n",
    "plt.ylabel('Second Principal Component')"
   ]
  },
  {
   "cell_type": "markdown",
   "metadata": {},
   "source": [
    "## 5. Hyperparameter Tuning"
   ]
  },
  {
   "cell_type": "code",
   "execution_count": 101,
   "metadata": {},
   "outputs": [],
   "source": [
    "from sklearn.ensemble import RandomForestRegressor\n",
    "\n",
    "rf = RandomForestRegressor()"
   ]
  },
  {
   "cell_type": "code",
   "execution_count": 102,
   "metadata": {},
   "outputs": [],
   "source": [
    "from sklearn.model_selection import RandomizedSearchCV\n",
    "\n",
    "n_estimators = [100, 500, 900]\n",
    "criterion = ['mse', 'mae']\n",
    "depth = [3, 5, 10, 15]\n",
    "min_split = [2, 3, 4]\n",
    "min_leaf = [2, 3, 4]\n",
    "bootstrap = ['True', 'False']\n",
    "verbose =[5]\n",
    "\n",
    "hyperparameter_grid = {\n",
    "    'n_estimators': n_estimators,\n",
    "    'max_depth':depth,\n",
    "    'criterion':criterion,\n",
    "    'bootstrap':bootstrap,\n",
    "    'verbose':verbose,\n",
    "    'min_samples_split':min_split,\n",
    "    'min_samples_leaf':min_leaf\n",
    "    }\n",
    "\n",
    "random_cv = RandomizedSearchCV(estimator=rf,\n",
    "                              param_distributions=hyperparameter_grid,\n",
    "                              cv=5, scoring='neg_mean_absolute_error',\n",
    "                              n_jobs=4, return_train_score=True, random_state=42)"
   ]
  },
  {
   "cell_type": "code",
   "execution_count": 103,
   "metadata": {
    "collapsed": true,
    "jupyter": {
     "outputs_hidden": true
    }
   },
   "outputs": [
    {
     "name": "stderr",
     "output_type": "stream",
     "text": [
      "[Parallel(n_jobs=1)]: Using backend SequentialBackend with 1 concurrent workers.\n",
      "[Parallel(n_jobs=1)]: Done   1 out of   1 | elapsed:    0.0s remaining:    0.0s\n",
      "[Parallel(n_jobs=1)]: Done   2 out of   2 | elapsed:    0.0s remaining:    0.0s\n",
      "[Parallel(n_jobs=1)]: Done   3 out of   3 | elapsed:    0.0s remaining:    0.0s\n",
      "[Parallel(n_jobs=1)]: Done   4 out of   4 | elapsed:    0.0s remaining:    0.0s\n"
     ]
    },
    {
     "name": "stdout",
     "output_type": "stream",
     "text": [
      "building tree 1 of 900\n",
      "building tree 2 of 900\n",
      "building tree 3 of 900\n",
      "building tree 4 of 900\n",
      "building tree 5 of 900\n",
      "building tree 6 of 900\n",
      "building tree 7 of 900\n",
      "building tree 8 of 900\n",
      "building tree 9 of 900\n",
      "building tree 10 of 900\n",
      "building tree 11 of 900\n",
      "building tree 12 of 900\n",
      "building tree 13 of 900\n",
      "building tree 14 of 900\n",
      "building tree 15 of 900\n",
      "building tree 16 of 900\n",
      "building tree 17 of 900\n",
      "building tree 18 of 900\n",
      "building tree 19 of 900\n",
      "building tree 20 of 900\n",
      "building tree 21 of 900\n",
      "building tree 22 of 900\n",
      "building tree 23 of 900\n",
      "building tree 24 of 900\n",
      "building tree 25 of 900\n",
      "building tree 26 of 900\n",
      "building tree 27 of 900\n",
      "building tree 28 of 900\n",
      "building tree 29 of 900\n",
      "building tree 30 of 900\n",
      "building tree 31 of 900\n",
      "building tree 32 of 900\n",
      "building tree 33 of 900\n",
      "building tree 34 of 900\n",
      "building tree 35 of 900\n",
      "building tree 36 of 900\n",
      "building tree 37 of 900\n",
      "building tree 38 of 900\n",
      "building tree 39 of 900\n",
      "building tree 40 of 900\n",
      "building tree 41 of 900\n",
      "building tree 42 of 900\n",
      "building tree 43 of 900\n",
      "building tree 44 of 900\n",
      "building tree 45 of 900\n",
      "building tree 46 of 900\n",
      "building tree 47 of 900\n",
      "building tree 48 of 900\n",
      "building tree 49 of 900\n",
      "building tree 50 of 900\n",
      "building tree 51 of 900\n",
      "building tree 52 of 900\n",
      "building tree 53 of 900\n",
      "building tree 54 of 900\n",
      "building tree 55 of 900\n",
      "building tree 56 of 900\n",
      "building tree 57 of 900\n",
      "building tree 58 of 900\n",
      "building tree 59 of 900\n",
      "building tree 60 of 900\n",
      "building tree 61 of 900\n",
      "building tree 62 of 900\n",
      "building tree 63 of 900\n",
      "building tree 64 of 900\n",
      "building tree 65 of 900\n",
      "building tree 66 of 900\n",
      "building tree 67 of 900\n",
      "building tree 68 of 900\n",
      "building tree 69 of 900\n",
      "building tree 70 of 900\n",
      "building tree 71 of 900\n",
      "building tree 72 of 900\n",
      "building tree 73 of 900\n",
      "building tree 74 of 900\n",
      "building tree 75 of 900\n",
      "building tree 76 of 900\n",
      "building tree 77 of 900\n",
      "building tree 78 of 900\n",
      "building tree 79 of 900\n",
      "building tree 80 of 900\n",
      "building tree 81 of 900\n",
      "building tree 82 of 900\n",
      "building tree 83 of 900\n",
      "building tree 84 of 900\n",
      "building tree 85 of 900\n",
      "building tree 86 of 900\n",
      "building tree 87 of 900\n",
      "building tree 88 of 900\n",
      "building tree 89 of 900\n",
      "building tree 90 of 900\n",
      "building tree 91 of 900\n",
      "building tree 92 of 900\n",
      "building tree 93 of 900\n",
      "building tree 94 of 900\n",
      "building tree 95 of 900\n",
      "building tree 96 of 900\n",
      "building tree 97 of 900\n",
      "building tree 98 of 900\n",
      "building tree 99 of 900\n",
      "building tree 100 of 900\n",
      "building tree 101 of 900\n",
      "building tree 102 of 900\n",
      "building tree 103 of 900\n",
      "building tree 104 of 900\n",
      "building tree 105 of 900\n",
      "building tree 106 of 900\n",
      "building tree 107 of 900\n",
      "building tree 108 of 900\n",
      "building tree 109 of 900\n",
      "building tree 110 of 900\n",
      "building tree 111 of 900\n",
      "building tree 112 of 900\n",
      "building tree 113 of 900\n",
      "building tree 114 of 900\n",
      "building tree 115 of 900\n",
      "building tree 116 of 900\n",
      "building tree 117 of 900\n",
      "building tree 118 of 900\n",
      "building tree 119 of 900\n",
      "building tree 120 of 900\n",
      "building tree 121 of 900\n",
      "building tree 122 of 900\n",
      "building tree 123 of 900\n",
      "building tree 124 of 900\n",
      "building tree 125 of 900\n",
      "building tree 126 of 900\n",
      "building tree 127 of 900\n",
      "building tree 128 of 900\n",
      "building tree 129 of 900\n",
      "building tree 130 of 900\n",
      "building tree 131 of 900\n",
      "building tree 132 of 900\n",
      "building tree 133 of 900\n",
      "building tree 134 of 900\n",
      "building tree 135 of 900\n",
      "building tree 136 of 900\n",
      "building tree 137 of 900\n",
      "building tree 138 of 900\n",
      "building tree 139 of 900\n",
      "building tree 140 of 900\n",
      "building tree 141 of 900\n",
      "building tree 142 of 900\n",
      "building tree 143 of 900\n",
      "building tree 144 of 900\n",
      "building tree 145 of 900\n",
      "building tree 146 of 900\n",
      "building tree 147 of 900\n",
      "building tree 148 of 900\n",
      "building tree 149 of 900\n",
      "building tree 150 of 900\n",
      "building tree 151 of 900\n",
      "building tree 152 of 900\n",
      "building tree 153 of 900\n",
      "building tree 154 of 900\n",
      "building tree 155 of 900\n",
      "building tree 156 of 900\n",
      "building tree 157 of 900\n",
      "building tree 158 of 900\n",
      "building tree 159 of 900\n",
      "building tree 160 of 900\n",
      "building tree 161 of 900\n",
      "building tree 162 of 900\n",
      "building tree 163 of 900\n",
      "building tree 164 of 900\n",
      "building tree 165 of 900\n",
      "building tree 166 of 900\n",
      "building tree 167 of 900\n",
      "building tree 168 of 900\n",
      "building tree 169 of 900\n",
      "building tree 170 of 900\n",
      "building tree 171 of 900\n",
      "building tree 172 of 900\n",
      "building tree 173 of 900\n",
      "building tree 174 of 900\n",
      "building tree 175 of 900\n",
      "building tree 176 of 900\n",
      "building tree 177 of 900\n",
      "building tree 178 of 900\n",
      "building tree 179 of 900\n",
      "building tree 180 of 900\n",
      "building tree 181 of 900\n",
      "building tree 182 of 900\n",
      "building tree 183 of 900\n",
      "building tree 184 of 900\n",
      "building tree 185 of 900\n",
      "building tree 186 of 900\n",
      "building tree 187 of 900\n",
      "building tree 188 of 900\n",
      "building tree 189 of 900\n",
      "building tree 190 of 900\n",
      "building tree 191 of 900\n",
      "building tree 192 of 900\n",
      "building tree 193 of 900\n",
      "building tree 194 of 900\n",
      "building tree 195 of 900\n",
      "building tree 196 of 900\n",
      "building tree 197 of 900\n",
      "building tree 198 of 900\n",
      "building tree 199 of 900\n",
      "building tree 200 of 900\n",
      "building tree 201 of 900\n",
      "building tree 202 of 900\n",
      "building tree 203 of 900\n",
      "building tree 204 of 900\n",
      "building tree 205 of 900\n",
      "building tree 206 of 900\n",
      "building tree 207 of 900\n",
      "building tree 208 of 900\n",
      "building tree 209 of 900\n",
      "building tree 210 of 900\n",
      "building tree 211 of 900\n",
      "building tree 212 of 900\n",
      "building tree 213 of 900\n",
      "building tree 214 of 900\n",
      "building tree 215 of 900\n",
      "building tree 216 of 900\n",
      "building tree 217 of 900\n",
      "building tree 218 of 900\n",
      "building tree 219 of 900\n",
      "building tree 220 of 900\n",
      "building tree 221 of 900\n",
      "building tree 222 of 900\n",
      "building tree 223 of 900\n",
      "building tree 224 of 900\n",
      "building tree 225 of 900\n",
      "building tree 226 of 900\n",
      "building tree 227 of 900\n",
      "building tree 228 of 900\n",
      "building tree 229 of 900\n",
      "building tree 230 of 900\n",
      "building tree 231 of 900\n",
      "building tree 232 of 900\n",
      "building tree 233 of 900\n",
      "building tree 234 of 900\n",
      "building tree 235 of 900\n",
      "building tree 236 of 900\n",
      "building tree 237 of 900\n",
      "building tree 238 of 900\n",
      "building tree 239 of 900\n",
      "building tree 240 of 900\n",
      "building tree 241 of 900\n",
      "building tree 242 of 900\n",
      "building tree 243 of 900\n",
      "building tree 244 of 900\n",
      "building tree 245 of 900\n",
      "building tree 246 of 900\n",
      "building tree 247 of 900\n",
      "building tree 248 of 900\n",
      "building tree 249 of 900\n",
      "building tree 250 of 900\n",
      "building tree 251 of 900\n",
      "building tree 252 of 900\n",
      "building tree 253 of 900\n",
      "building tree 254 of 900\n",
      "building tree 255 of 900\n",
      "building tree 256 of 900\n",
      "building tree 257 of 900\n",
      "building tree 258 of 900\n",
      "building tree 259 of 900\n",
      "building tree 260 of 900\n",
      "building tree 261 of 900\n",
      "building tree 262 of 900\n",
      "building tree 263 of 900\n",
      "building tree 264 of 900\n",
      "building tree 265 of 900\n",
      "building tree 266 of 900\n",
      "building tree 267 of 900\n",
      "building tree 268 of 900\n",
      "building tree 269 of 900\n",
      "building tree 270 of 900\n",
      "building tree 271 of 900\n",
      "building tree 272 of 900\n",
      "building tree 273 of 900\n",
      "building tree 274 of 900\n",
      "building tree 275 of 900\n",
      "building tree 276 of 900\n",
      "building tree 277 of 900\n",
      "building tree 278 of 900\n",
      "building tree 279 of 900\n",
      "building tree 280 of 900\n",
      "building tree 281 of 900\n",
      "building tree 282 of 900\n",
      "building tree 283 of 900\n",
      "building tree 284 of 900\n",
      "building tree 285 of 900\n",
      "building tree 286 of 900\n",
      "building tree 287 of 900\n",
      "building tree 288 of 900\n",
      "building tree 289 of 900\n",
      "building tree 290 of 900\n",
      "building tree 291 of 900\n",
      "building tree 292 of 900\n",
      "building tree 293 of 900\n",
      "building tree 294 of 900\n",
      "building tree 295 of 900\n",
      "building tree 296 of 900\n",
      "building tree 297 of 900\n",
      "building tree 298 of 900\n",
      "building tree 299 of 900\n",
      "building tree 300 of 900\n",
      "building tree 301 of 900\n",
      "building tree 302 of 900\n",
      "building tree 303 of 900\n",
      "building tree 304 of 900\n",
      "building tree 305 of 900\n",
      "building tree 306 of 900\n",
      "building tree 307 of 900\n",
      "building tree 308 of 900\n",
      "building tree 309 of 900\n",
      "building tree 310 of 900\n",
      "building tree 311 of 900\n",
      "building tree 312 of 900\n",
      "building tree 313 of 900\n",
      "building tree 314 of 900\n",
      "building tree 315 of 900\n",
      "building tree 316 of 900\n",
      "building tree 317 of 900\n",
      "building tree 318 of 900\n",
      "building tree 319 of 900\n",
      "building tree 320 of 900\n",
      "building tree 321 of 900\n",
      "building tree 322 of 900\n",
      "building tree 323 of 900\n",
      "building tree 324 of 900\n",
      "building tree 325 of 900\n",
      "building tree 326 of 900\n",
      "building tree 327 of 900\n",
      "building tree 328 of 900\n",
      "building tree 329 of 900\n",
      "building tree 330 of 900\n",
      "building tree 331 of 900\n",
      "building tree 332 of 900\n",
      "building tree 333 of 900\n",
      "building tree 334 of 900\n",
      "building tree 335 of 900\n",
      "building tree 336 of 900\n",
      "building tree 337 of 900\n",
      "building tree 338 of 900\n",
      "building tree 339 of 900\n",
      "building tree 340 of 900\n",
      "building tree 341 of 900\n",
      "building tree 342 of 900\n",
      "building tree 343 of 900\n",
      "building tree 344 of 900\n",
      "building tree 345 of 900\n",
      "building tree 346 of 900\n",
      "building tree 347 of 900\n",
      "building tree 348 of 900\n",
      "building tree 349 of 900\n",
      "building tree 350 of 900\n",
      "building tree 351 of 900\n",
      "building tree 352 of 900\n",
      "building tree 353 of 900\n",
      "building tree 354 of 900\n",
      "building tree 355 of 900\n",
      "building tree 356 of 900\n",
      "building tree 357 of 900\n",
      "building tree 358 of 900\n",
      "building tree 359 of 900\n",
      "building tree 360 of 900\n",
      "building tree 361 of 900\n",
      "building tree 362 of 900\n",
      "building tree 363 of 900\n",
      "building tree 364 of 900\n",
      "building tree 365 of 900\n",
      "building tree 366 of 900\n",
      "building tree 367 of 900\n",
      "building tree 368 of 900\n",
      "building tree 369 of 900\n",
      "building tree 370 of 900\n",
      "building tree 371 of 900\n",
      "building tree 372 of 900\n",
      "building tree 373 of 900\n",
      "building tree 374 of 900\n",
      "building tree 375 of 900\n",
      "building tree 376 of 900\n",
      "building tree 377 of 900\n",
      "building tree 378 of 900\n",
      "building tree 379 of 900\n",
      "building tree 380 of 900\n",
      "building tree 381 of 900\n",
      "building tree 382 of 900\n",
      "building tree 383 of 900\n",
      "building tree 384 of 900\n",
      "building tree 385 of 900\n",
      "building tree 386 of 900\n",
      "building tree 387 of 900\n",
      "building tree 388 of 900\n",
      "building tree 389 of 900\n",
      "building tree 390 of 900\n",
      "building tree 391 of 900\n",
      "building tree 392 of 900\n",
      "building tree 393 of 900\n",
      "building tree 394 of 900\n",
      "building tree 395 of 900\n",
      "building tree 396 of 900\n",
      "building tree 397 of 900\n",
      "building tree 398 of 900\n",
      "building tree 399 of 900\n",
      "building tree 400 of 900\n",
      "building tree 401 of 900\n",
      "building tree 402 of 900\n",
      "building tree 403 of 900\n",
      "building tree 404 of 900\n",
      "building tree 405 of 900\n",
      "building tree 406 of 900\n",
      "building tree 407 of 900\n",
      "building tree 408 of 900\n",
      "building tree 409 of 900\n",
      "building tree 410 of 900\n",
      "building tree 411 of 900\n",
      "building tree 412 of 900\n",
      "building tree 413 of 900\n",
      "building tree 414 of 900\n",
      "building tree 415 of 900\n",
      "building tree 416 of 900\n",
      "building tree 417 of 900\n",
      "building tree 418 of 900\n",
      "building tree 419 of 900\n",
      "building tree 420 of 900\n",
      "building tree 421 of 900\n",
      "building tree 422 of 900\n",
      "building tree 423 of 900\n",
      "building tree 424 of 900\n",
      "building tree 425 of 900\n",
      "building tree 426 of 900\n",
      "building tree 427 of 900\n",
      "building tree 428 of 900\n",
      "building tree 429 of 900\n",
      "building tree 430 of 900\n",
      "building tree 431 of 900\n",
      "building tree 432 of 900\n",
      "building tree 433 of 900\n",
      "building tree 434 of 900\n",
      "building tree 435 of 900\n",
      "building tree 436 of 900\n",
      "building tree 437 of 900\n",
      "building tree 438 of 900\n",
      "building tree 439 of 900\n",
      "building tree 440 of 900\n",
      "building tree 441 of 900\n",
      "building tree 442 of 900\n",
      "building tree 443 of 900\n",
      "building tree 444 of 900\n",
      "building tree 445 of 900\n",
      "building tree 446 of 900\n",
      "building tree 447 of 900\n",
      "building tree 448 of 900\n",
      "building tree 449 of 900\n",
      "building tree 450 of 900\n",
      "building tree 451 of 900\n",
      "building tree 452 of 900\n",
      "building tree 453 of 900\n",
      "building tree 454 of 900\n",
      "building tree 455 of 900\n",
      "building tree 456 of 900\n",
      "building tree 457 of 900\n",
      "building tree 458 of 900\n",
      "building tree 459 of 900\n",
      "building tree 460 of 900\n",
      "building tree 461 of 900\n",
      "building tree 462 of 900\n",
      "building tree 463 of 900\n",
      "building tree 464 of 900\n",
      "building tree 465 of 900\n",
      "building tree 466 of 900\n",
      "building tree 467 of 900\n",
      "building tree 468 of 900\n",
      "building tree 469 of 900\n",
      "building tree 470 of 900\n",
      "building tree 471 of 900\n",
      "building tree 472 of 900\n",
      "building tree 473 of 900\n",
      "building tree 474 of 900\n",
      "building tree 475 of 900\n",
      "building tree 476 of 900\n",
      "building tree 477 of 900\n",
      "building tree 478 of 900\n",
      "building tree 479 of 900\n",
      "building tree 480 of 900\n",
      "building tree 481 of 900\n",
      "building tree 482 of 900\n",
      "building tree 483 of 900\n",
      "building tree 484 of 900\n",
      "building tree 485 of 900\n",
      "building tree 486 of 900\n",
      "building tree 487 of 900\n",
      "building tree 488 of 900\n",
      "building tree 489 of 900\n",
      "building tree 490 of 900\n",
      "building tree 491 of 900\n",
      "building tree 492 of 900\n",
      "building tree 493 of 900\n",
      "building tree 494 of 900\n",
      "building tree 495 of 900\n",
      "building tree 496 of 900\n",
      "building tree 497 of 900\n",
      "building tree 498 of 900\n",
      "building tree 499 of 900\n",
      "building tree 500 of 900\n",
      "building tree 501 of 900\n",
      "building tree 502 of 900\n",
      "building tree 503 of 900\n",
      "building tree 504 of 900\n",
      "building tree 505 of 900\n",
      "building tree 506 of 900\n",
      "building tree 507 of 900\n",
      "building tree 508 of 900\n",
      "building tree 509 of 900\n",
      "building tree 510 of 900\n",
      "building tree 511 of 900\n",
      "building tree 512 of 900\n",
      "building tree 513 of 900\n",
      "building tree 514 of 900\n",
      "building tree 515 of 900\n",
      "building tree 516 of 900\n",
      "building tree 517 of 900\n",
      "building tree 518 of 900\n",
      "building tree 519 of 900\n",
      "building tree 520 of 900\n",
      "building tree 521 of 900\n",
      "building tree 522 of 900\n",
      "building tree 523 of 900\n",
      "building tree 524 of 900\n",
      "building tree 525 of 900\n",
      "building tree 526 of 900\n",
      "building tree 527 of 900\n",
      "building tree 528 of 900\n",
      "building tree 529 of 900\n",
      "building tree 530 of 900\n",
      "building tree 531 of 900\n",
      "building tree 532 of 900\n",
      "building tree 533 of 900\n",
      "building tree 534 of 900\n",
      "building tree 535 of 900\n",
      "building tree 536 of 900\n",
      "building tree 537 of 900\n",
      "building tree 538 of 900\n",
      "building tree 539 of 900\n",
      "building tree 540 of 900\n",
      "building tree 541 of 900\n",
      "building tree 542 of 900\n",
      "building tree 543 of 900\n",
      "building tree 544 of 900\n",
      "building tree 545 of 900\n",
      "building tree 546 of 900\n",
      "building tree 547 of 900\n",
      "building tree 548 of 900\n",
      "building tree 549 of 900\n",
      "building tree 550 of 900\n",
      "building tree 551 of 900\n",
      "building tree 552 of 900\n",
      "building tree 553 of 900\n",
      "building tree 554 of 900\n",
      "building tree 555 of 900\n",
      "building tree 556 of 900\n",
      "building tree 557 of 900\n",
      "building tree 558 of 900\n",
      "building tree 559 of 900\n",
      "building tree 560 of 900\n",
      "building tree 561 of 900\n",
      "building tree 562 of 900\n",
      "building tree 563 of 900\n",
      "building tree 564 of 900\n",
      "building tree 565 of 900\n",
      "building tree 566 of 900\n",
      "building tree 567 of 900\n",
      "building tree 568 of 900\n",
      "building tree 569 of 900\n",
      "building tree 570 of 900\n",
      "building tree 571 of 900\n",
      "building tree 572 of 900\n",
      "building tree 573 of 900\n",
      "building tree 574 of 900\n",
      "building tree 575 of 900\n",
      "building tree 576 of 900\n",
      "building tree 577 of 900\n",
      "building tree 578 of 900\n",
      "building tree 579 of 900\n",
      "building tree 580 of 900\n",
      "building tree 581 of 900\n",
      "building tree 582 of 900\n",
      "building tree 583 of 900\n",
      "building tree 584 of 900\n",
      "building tree 585 of 900\n",
      "building tree 586 of 900\n",
      "building tree 587 of 900\n",
      "building tree 588 of 900\n",
      "building tree 589 of 900\n",
      "building tree 590 of 900\n",
      "building tree 591 of 900\n",
      "building tree 592 of 900\n",
      "building tree 593 of 900\n",
      "building tree 594 of 900\n",
      "building tree 595 of 900\n",
      "building tree 596 of 900\n",
      "building tree 597 of 900\n",
      "building tree 598 of 900\n",
      "building tree 599 of 900\n",
      "building tree 600 of 900\n",
      "building tree 601 of 900\n",
      "building tree 602 of 900\n",
      "building tree 603 of 900\n",
      "building tree 604 of 900\n",
      "building tree 605 of 900\n",
      "building tree 606 of 900\n",
      "building tree 607 of 900\n",
      "building tree 608 of 900\n",
      "building tree 609 of 900\n",
      "building tree 610 of 900\n",
      "building tree 611 of 900\n",
      "building tree 612 of 900\n",
      "building tree 613 of 900\n",
      "building tree 614 of 900\n",
      "building tree 615 of 900\n",
      "building tree 616 of 900\n",
      "building tree 617 of 900\n",
      "building tree 618 of 900\n",
      "building tree 619 of 900\n",
      "building tree 620 of 900\n",
      "building tree 621 of 900\n",
      "building tree 622 of 900\n",
      "building tree 623 of 900\n",
      "building tree 624 of 900\n",
      "building tree 625 of 900\n",
      "building tree 626 of 900\n",
      "building tree 627 of 900\n",
      "building tree 628 of 900\n",
      "building tree 629 of 900\n",
      "building tree 630 of 900\n",
      "building tree 631 of 900\n",
      "building tree 632 of 900\n",
      "building tree 633 of 900\n",
      "building tree 634 of 900\n",
      "building tree 635 of 900\n",
      "building tree 636 of 900\n",
      "building tree 637 of 900\n",
      "building tree 638 of 900\n",
      "building tree 639 of 900\n",
      "building tree 640 of 900\n",
      "building tree 641 of 900\n",
      "building tree 642 of 900\n",
      "building tree 643 of 900\n",
      "building tree 644 of 900\n",
      "building tree 645 of 900\n",
      "building tree 646 of 900\n",
      "building tree 647 of 900\n",
      "building tree 648 of 900\n",
      "building tree 649 of 900\n",
      "building tree 650 of 900\n",
      "building tree 651 of 900\n",
      "building tree 652 of 900\n",
      "building tree 653 of 900\n",
      "building tree 654 of 900\n",
      "building tree 655 of 900\n",
      "building tree 656 of 900\n",
      "building tree 657 of 900\n",
      "building tree 658 of 900\n",
      "building tree 659 of 900\n",
      "building tree 660 of 900\n",
      "building tree 661 of 900\n",
      "building tree 662 of 900\n",
      "building tree 663 of 900\n",
      "building tree 664 of 900\n",
      "building tree 665 of 900\n",
      "building tree 666 of 900\n",
      "building tree 667 of 900\n",
      "building tree 668 of 900\n",
      "building tree 669 of 900\n",
      "building tree 670 of 900\n",
      "building tree 671 of 900\n",
      "building tree 672 of 900\n",
      "building tree 673 of 900\n",
      "building tree 674 of 900\n",
      "building tree 675 of 900\n",
      "building tree 676 of 900\n",
      "building tree 677 of 900\n",
      "building tree 678 of 900\n",
      "building tree 679 of 900\n",
      "building tree 680 of 900\n",
      "building tree 681 of 900\n",
      "building tree 682 of 900\n",
      "building tree 683 of 900\n",
      "building tree 684 of 900\n",
      "building tree 685 of 900\n",
      "building tree 686 of 900\n",
      "building tree 687 of 900\n",
      "building tree 688 of 900\n",
      "building tree 689 of 900\n",
      "building tree 690 of 900\n",
      "building tree 691 of 900\n",
      "building tree 692 of 900\n",
      "building tree 693 of 900\n",
      "building tree 694 of 900\n",
      "building tree 695 of 900\n",
      "building tree 696 of 900\n",
      "building tree 697 of 900\n",
      "building tree 698 of 900\n",
      "building tree 699 of 900\n",
      "building tree 700 of 900\n",
      "building tree 701 of 900\n",
      "building tree 702 of 900\n",
      "building tree 703 of 900\n",
      "building tree 704 of 900\n",
      "building tree 705 of 900\n",
      "building tree 706 of 900\n",
      "building tree 707 of 900\n",
      "building tree 708 of 900\n",
      "building tree 709 of 900\n",
      "building tree 710 of 900\n",
      "building tree 711 of 900\n",
      "building tree 712 of 900\n",
      "building tree 713 of 900\n",
      "building tree 714 of 900\n",
      "building tree 715 of 900\n",
      "building tree 716 of 900\n",
      "building tree 717 of 900\n",
      "building tree 718 of 900\n",
      "building tree 719 of 900\n",
      "building tree 720 of 900\n",
      "building tree 721 of 900\n",
      "building tree 722 of 900\n",
      "building tree 723 of 900\n",
      "building tree 724 of 900\n",
      "building tree 725 of 900\n",
      "building tree 726 of 900\n",
      "building tree 727 of 900\n",
      "building tree 728 of 900\n",
      "building tree 729 of 900\n",
      "building tree 730 of 900\n",
      "building tree 731 of 900\n",
      "building tree 732 of 900\n",
      "building tree 733 of 900\n",
      "building tree 734 of 900\n",
      "building tree 735 of 900\n",
      "building tree 736 of 900\n",
      "building tree 737 of 900\n",
      "building tree 738 of 900\n",
      "building tree 739 of 900\n",
      "building tree 740 of 900\n",
      "building tree 741 of 900\n",
      "building tree 742 of 900\n",
      "building tree 743 of 900\n",
      "building tree 744 of 900\n",
      "building tree 745 of 900\n",
      "building tree 746 of 900\n",
      "building tree 747 of 900\n",
      "building tree 748 of 900\n",
      "building tree 749 of 900\n",
      "building tree 750 of 900\n",
      "building tree 751 of 900\n",
      "building tree 752 of 900\n",
      "building tree 753 of 900\n",
      "building tree 754 of 900\n",
      "building tree 755 of 900\n",
      "building tree 756 of 900\n",
      "building tree 757 of 900\n",
      "building tree 758 of 900\n",
      "building tree 759 of 900\n",
      "building tree 760 of 900\n",
      "building tree 761 of 900\n",
      "building tree 762 of 900\n",
      "building tree 763 of 900\n",
      "building tree 764 of 900\n",
      "building tree 765 of 900\n",
      "building tree 766 of 900\n",
      "building tree 767 of 900\n",
      "building tree 768 of 900\n",
      "building tree 769 of 900\n",
      "building tree 770 of 900\n",
      "building tree 771 of 900\n",
      "building tree 772 of 900\n",
      "building tree 773 of 900\n",
      "building tree 774 of 900\n",
      "building tree 775 of 900\n",
      "building tree 776 of 900\n",
      "building tree 777 of 900\n",
      "building tree 778 of 900\n",
      "building tree 779 of 900\n",
      "building tree 780 of 900\n",
      "building tree 781 of 900\n",
      "building tree 782 of 900\n",
      "building tree 783 of 900\n",
      "building tree 784 of 900\n",
      "building tree 785 of 900\n",
      "building tree 786 of 900\n",
      "building tree 787 of 900\n",
      "building tree 788 of 900\n",
      "building tree 789 of 900\n",
      "building tree 790 of 900\n",
      "building tree 791 of 900\n",
      "building tree 792 of 900\n",
      "building tree 793 of 900\n",
      "building tree 794 of 900\n",
      "building tree 795 of 900\n",
      "building tree 796 of 900\n",
      "building tree 797 of 900\n",
      "building tree 798 of 900\n",
      "building tree 799 of 900\n",
      "building tree 800 of 900\n",
      "building tree 801 of 900\n",
      "building tree 802 of 900\n",
      "building tree 803 of 900\n",
      "building tree 804 of 900\n",
      "building tree 805 of 900\n",
      "building tree 806 of 900\n",
      "building tree 807 of 900\n",
      "building tree 808 of 900\n",
      "building tree 809 of 900\n",
      "building tree 810 of 900\n",
      "building tree 811 of 900\n",
      "building tree 812 of 900\n",
      "building tree 813 of 900\n",
      "building tree 814 of 900\n",
      "building tree 815 of 900\n",
      "building tree 816 of 900\n",
      "building tree 817 of 900\n",
      "building tree 818 of 900\n",
      "building tree 819 of 900\n",
      "building tree 820 of 900\n",
      "building tree 821 of 900\n",
      "building tree 822 of 900\n",
      "building tree 823 of 900\n",
      "building tree 824 of 900\n",
      "building tree 825 of 900\n",
      "building tree 826 of 900\n",
      "building tree 827 of 900\n",
      "building tree 828 of 900\n",
      "building tree 829 of 900\n",
      "building tree 830 of 900\n",
      "building tree 831 of 900\n",
      "building tree 832 of 900\n",
      "building tree 833 of 900\n",
      "building tree 834 of 900\n",
      "building tree 835 of 900\n",
      "building tree 836 of 900\n",
      "building tree 837 of 900\n",
      "building tree 838 of 900\n",
      "building tree 839 of 900\n",
      "building tree 840 of 900\n",
      "building tree 841 of 900\n",
      "building tree 842 of 900\n",
      "building tree 843 of 900\n",
      "building tree 844 of 900\n",
      "building tree 845 of 900\n",
      "building tree 846 of 900\n",
      "building tree 847 of 900\n",
      "building tree 848 of 900\n",
      "building tree 849 of 900\n",
      "building tree 850 of 900\n",
      "building tree 851 of 900\n",
      "building tree 852 of 900\n",
      "building tree 853 of 900\n",
      "building tree 854 of 900\n",
      "building tree 855 of 900\n",
      "building tree 856 of 900\n",
      "building tree 857 of 900\n",
      "building tree 858 of 900\n",
      "building tree 859 of 900\n",
      "building tree 860 of 900\n",
      "building tree 861 of 900\n",
      "building tree 862 of 900\n",
      "building tree 863 of 900\n",
      "building tree 864 of 900\n",
      "building tree 865 of 900\n",
      "building tree 866 of 900\n",
      "building tree 867 of 900\n",
      "building tree 868 of 900\n",
      "building tree 869 of 900\n",
      "building tree 870 of 900\n",
      "building tree 871 of 900\n",
      "building tree 872 of 900\n",
      "building tree 873 of 900\n",
      "building tree 874 of 900\n",
      "building tree 875 of 900\n",
      "building tree 876 of 900\n",
      "building tree 877 of 900\n",
      "building tree 878 of 900\n",
      "building tree 879 of 900\n",
      "building tree 880 of 900\n",
      "building tree 881 of 900\n",
      "building tree 882 of 900\n",
      "building tree 883 of 900\n",
      "building tree 884 of 900\n",
      "building tree 885 of 900\n",
      "building tree 886 of 900\n",
      "building tree 887 of 900\n",
      "building tree 888 of 900\n",
      "building tree 889 of 900\n",
      "building tree 890 of 900\n",
      "building tree 891 of 900\n",
      "building tree 892 of 900\n",
      "building tree 893 of 900\n",
      "building tree 894 of 900\n",
      "building tree 895 of 900\n",
      "building tree 896 of 900\n",
      "building tree 897 of 900\n",
      "building tree 898 of 900\n",
      "building tree 899 of 900\n",
      "building tree 900 of 900\n"
     ]
    },
    {
     "name": "stderr",
     "output_type": "stream",
     "text": [
      "[Parallel(n_jobs=1)]: Done 900 out of 900 | elapsed:    9.2s finished\n"
     ]
    },
    {
     "data": {
      "text/plain": [
       "RandomizedSearchCV(cv=5, estimator=RandomForestRegressor(), n_jobs=4,\n",
       "                   param_distributions={'bootstrap': ['True', 'False'],\n",
       "                                        'criterion': ['mse', 'mae'],\n",
       "                                        'max_depth': [3, 5, 10, 15],\n",
       "                                        'min_samples_leaf': [2, 3, 4],\n",
       "                                        'min_samples_split': [2, 3, 4],\n",
       "                                        'n_estimators': [100, 500, 900],\n",
       "                                        'verbose': [5]},\n",
       "                   random_state=42, return_train_score=True,\n",
       "                   scoring='neg_mean_absolute_error')"
      ]
     },
     "execution_count": 103,
     "metadata": {},
     "output_type": "execute_result"
    }
   ],
   "source": [
    "random_cv.fit(X_train, y_train)"
   ]
  },
  {
   "cell_type": "code",
   "execution_count": 104,
   "metadata": {},
   "outputs": [
    {
     "data": {
      "text/plain": [
       "RandomForestRegressor(bootstrap='False', max_depth=10, min_samples_leaf=2,\n",
       "                      min_samples_split=3, n_estimators=900, verbose=5)"
      ]
     },
     "execution_count": 104,
     "metadata": {},
     "output_type": "execute_result"
    }
   ],
   "source": [
    "random_cv.best_estimator_"
   ]
  },
  {
   "cell_type": "markdown",
   "metadata": {},
   "source": [
    "## 6. Train Random Forest Regressor"
   ]
  },
  {
   "cell_type": "code",
   "execution_count": 105,
   "metadata": {},
   "outputs": [],
   "source": [
    "rf = RandomForestRegressor(bootstrap='True', ccp_alpha=0.0, criterion='mae',\n",
    "                      max_depth=15, max_features='auto', max_leaf_nodes=None,\n",
    "                      max_samples=None, min_impurity_decrease=0.0,\n",
    "                      min_impurity_split=None, min_samples_leaf=2,\n",
    "                      min_samples_split=4, min_weight_fraction_leaf=0.0,\n",
    "                      n_estimators=100, n_jobs=None, oob_score=False,\n",
    "                      random_state=None, verbose=5, warm_start=False)"
   ]
  },
  {
   "cell_type": "code",
   "execution_count": 106,
   "metadata": {},
   "outputs": [
    {
     "name": "stderr",
     "output_type": "stream",
     "text": [
      "[Parallel(n_jobs=1)]: Using backend SequentialBackend with 1 concurrent workers.\n"
     ]
    },
    {
     "name": "stdout",
     "output_type": "stream",
     "text": [
      "building tree 1 of 100\n"
     ]
    },
    {
     "name": "stderr",
     "output_type": "stream",
     "text": [
      "[Parallel(n_jobs=1)]: Done   1 out of   1 | elapsed:    0.3s remaining:    0.0s\n"
     ]
    },
    {
     "name": "stdout",
     "output_type": "stream",
     "text": [
      "building tree 2 of 100\n"
     ]
    },
    {
     "name": "stderr",
     "output_type": "stream",
     "text": [
      "[Parallel(n_jobs=1)]: Done   2 out of   2 | elapsed:    0.6s remaining:    0.0s\n"
     ]
    },
    {
     "name": "stdout",
     "output_type": "stream",
     "text": [
      "building tree 3 of 100\n"
     ]
    },
    {
     "name": "stderr",
     "output_type": "stream",
     "text": [
      "[Parallel(n_jobs=1)]: Done   3 out of   3 | elapsed:    0.9s remaining:    0.0s\n"
     ]
    },
    {
     "name": "stdout",
     "output_type": "stream",
     "text": [
      "building tree 4 of 100\n"
     ]
    },
    {
     "name": "stderr",
     "output_type": "stream",
     "text": [
      "[Parallel(n_jobs=1)]: Done   4 out of   4 | elapsed:    1.1s remaining:    0.0s\n"
     ]
    },
    {
     "name": "stdout",
     "output_type": "stream",
     "text": [
      "building tree 5 of 100\n",
      "building tree 6 of 100\n",
      "building tree 7 of 100\n",
      "building tree 8 of 100\n",
      "building tree 9 of 100\n",
      "building tree 10 of 100\n",
      "building tree 11 of 100\n",
      "building tree 12 of 100\n",
      "building tree 13 of 100\n",
      "building tree 14 of 100\n",
      "building tree 15 of 100\n",
      "building tree 16 of 100\n",
      "building tree 17 of 100\n",
      "building tree 18 of 100\n",
      "building tree 19 of 100\n",
      "building tree 20 of 100\n",
      "building tree 21 of 100\n",
      "building tree 22 of 100\n",
      "building tree 23 of 100\n",
      "building tree 24 of 100\n",
      "building tree 25 of 100\n",
      "building tree 26 of 100\n",
      "building tree 27 of 100\n",
      "building tree 28 of 100\n",
      "building tree 29 of 100\n",
      "building tree 30 of 100\n",
      "building tree 31 of 100\n",
      "building tree 32 of 100\n",
      "building tree 33 of 100\n",
      "building tree 34 of 100\n",
      "building tree 35 of 100\n",
      "building tree 36 of 100\n",
      "building tree 37 of 100\n",
      "building tree 38 of 100\n",
      "building tree 39 of 100\n",
      "building tree 40 of 100\n",
      "building tree 41 of 100\n",
      "building tree 42 of 100\n",
      "building tree 43 of 100\n",
      "building tree 44 of 100\n",
      "building tree 45 of 100\n",
      "building tree 46 of 100\n",
      "building tree 47 of 100\n",
      "building tree 48 of 100\n",
      "building tree 49 of 100\n",
      "building tree 50 of 100\n",
      "building tree 51 of 100\n",
      "building tree 52 of 100\n",
      "building tree 53 of 100\n",
      "building tree 54 of 100\n",
      "building tree 55 of 100\n",
      "building tree 56 of 100\n",
      "building tree 57 of 100\n",
      "building tree 58 of 100\n",
      "building tree 59 of 100\n",
      "building tree 60 of 100\n",
      "building tree 61 of 100\n",
      "building tree 62 of 100\n",
      "building tree 63 of 100\n",
      "building tree 64 of 100\n",
      "building tree 65 of 100\n",
      "building tree 66 of 100\n",
      "building tree 67 of 100\n",
      "building tree 68 of 100\n",
      "building tree 69 of 100\n",
      "building tree 70 of 100\n",
      "building tree 71 of 100\n",
      "building tree 72 of 100\n",
      "building tree 73 of 100\n",
      "building tree 74 of 100\n",
      "building tree 75 of 100\n",
      "building tree 76 of 100\n",
      "building tree 77 of 100\n",
      "building tree 78 of 100\n",
      "building tree 79 of 100\n",
      "building tree 80 of 100\n",
      "building tree 81 of 100\n",
      "building tree 82 of 100\n",
      "building tree 83 of 100\n",
      "building tree 84 of 100\n",
      "building tree 85 of 100\n",
      "building tree 86 of 100\n",
      "building tree 87 of 100\n",
      "building tree 88 of 100\n",
      "building tree 89 of 100\n",
      "building tree 90 of 100\n",
      "building tree 91 of 100\n",
      "building tree 92 of 100\n",
      "building tree 93 of 100\n",
      "building tree 94 of 100\n",
      "building tree 95 of 100\n",
      "building tree 96 of 100\n",
      "building tree 97 of 100\n",
      "building tree 98 of 100\n",
      "building tree 99 of 100\n",
      "building tree 100 of 100\n"
     ]
    },
    {
     "name": "stderr",
     "output_type": "stream",
     "text": [
      "[Parallel(n_jobs=1)]: Done 100 out of 100 | elapsed:   27.7s finished\n",
      "[Parallel(n_jobs=1)]: Using backend SequentialBackend with 1 concurrent workers.\n",
      "[Parallel(n_jobs=1)]: Done   1 out of   1 | elapsed:    0.0s remaining:    0.0s\n",
      "[Parallel(n_jobs=1)]: Done   2 out of   2 | elapsed:    0.0s remaining:    0.0s\n",
      "[Parallel(n_jobs=1)]: Done   3 out of   3 | elapsed:    0.0s remaining:    0.0s\n",
      "[Parallel(n_jobs=1)]: Done   4 out of   4 | elapsed:    0.0s remaining:    0.0s\n",
      "[Parallel(n_jobs=1)]: Done 100 out of 100 | elapsed:    0.0s finished\n"
     ]
    }
   ],
   "source": [
    "rf.fit(X_train, y_train)\n",
    "y_pred = rf.predict(df_test)"
   ]
  },
  {
   "cell_type": "code",
   "execution_count": 107,
   "metadata": {},
   "outputs": [
    {
     "data": {
      "text/plain": [
       "array([126346.   , 154868.25 , 182848.34 , ..., 156549.955, 115791.75 ,\n",
       "       236980.315])"
      ]
     },
     "execution_count": 107,
     "metadata": {},
     "output_type": "execute_result"
    }
   ],
   "source": [
    "y_pred"
   ]
  },
  {
   "cell_type": "code",
   "execution_count": 109,
   "metadata": {},
   "outputs": [],
   "source": [
    "pred = pd.DataFrame(y_pred)\n",
    "ori_test = pd.read_csv('test.csv')\n",
    "sub = pd.concat([ori_test['Id'], pred], axis=1)\n",
    "sub.columns = ['Id', 'PredSalePrice']"
   ]
  },
  {
   "cell_type": "code",
   "execution_count": 110,
   "metadata": {},
   "outputs": [
    {
     "data": {
      "text/html": [
       "<div>\n",
       "<style scoped>\n",
       "    .dataframe tbody tr th:only-of-type {\n",
       "        vertical-align: middle;\n",
       "    }\n",
       "\n",
       "    .dataframe tbody tr th {\n",
       "        vertical-align: top;\n",
       "    }\n",
       "\n",
       "    .dataframe thead th {\n",
       "        text-align: right;\n",
       "    }\n",
       "</style>\n",
       "<table border=\"1\" class=\"dataframe\">\n",
       "  <thead>\n",
       "    <tr style=\"text-align: right;\">\n",
       "      <th></th>\n",
       "      <th>Id</th>\n",
       "      <th>PredSalePrice</th>\n",
       "    </tr>\n",
       "  </thead>\n",
       "  <tbody>\n",
       "    <tr>\n",
       "      <th>0</th>\n",
       "      <td>1461</td>\n",
       "      <td>126346.000</td>\n",
       "    </tr>\n",
       "    <tr>\n",
       "      <th>1</th>\n",
       "      <td>1462</td>\n",
       "      <td>154868.250</td>\n",
       "    </tr>\n",
       "    <tr>\n",
       "      <th>2</th>\n",
       "      <td>1463</td>\n",
       "      <td>182848.340</td>\n",
       "    </tr>\n",
       "    <tr>\n",
       "      <th>3</th>\n",
       "      <td>1464</td>\n",
       "      <td>177186.850</td>\n",
       "    </tr>\n",
       "    <tr>\n",
       "      <th>4</th>\n",
       "      <td>1465</td>\n",
       "      <td>197439.110</td>\n",
       "    </tr>\n",
       "    <tr>\n",
       "      <th>...</th>\n",
       "      <td>...</td>\n",
       "      <td>...</td>\n",
       "    </tr>\n",
       "    <tr>\n",
       "      <th>1454</th>\n",
       "      <td>2915</td>\n",
       "      <td>86223.615</td>\n",
       "    </tr>\n",
       "    <tr>\n",
       "      <th>1455</th>\n",
       "      <td>2916</td>\n",
       "      <td>89290.825</td>\n",
       "    </tr>\n",
       "    <tr>\n",
       "      <th>1456</th>\n",
       "      <td>2917</td>\n",
       "      <td>156549.955</td>\n",
       "    </tr>\n",
       "    <tr>\n",
       "      <th>1457</th>\n",
       "      <td>2918</td>\n",
       "      <td>115791.750</td>\n",
       "    </tr>\n",
       "    <tr>\n",
       "      <th>1458</th>\n",
       "      <td>2919</td>\n",
       "      <td>236980.315</td>\n",
       "    </tr>\n",
       "  </tbody>\n",
       "</table>\n",
       "<p>1459 rows × 2 columns</p>\n",
       "</div>"
      ],
      "text/plain": [
       "        Id  PredSalePrice\n",
       "0     1461     126346.000\n",
       "1     1462     154868.250\n",
       "2     1463     182848.340\n",
       "3     1464     177186.850\n",
       "4     1465     197439.110\n",
       "...    ...            ...\n",
       "1454  2915      86223.615\n",
       "1455  2916      89290.825\n",
       "1456  2917     156549.955\n",
       "1457  2918     115791.750\n",
       "1458  2919     236980.315\n",
       "\n",
       "[1459 rows x 2 columns]"
      ]
     },
     "execution_count": 110,
     "metadata": {},
     "output_type": "execute_result"
    }
   ],
   "source": [
    "sub"
   ]
  },
  {
   "cell_type": "markdown",
   "metadata": {},
   "source": [
    "## 7. Train Xgboost Regressor"
   ]
  },
  {
   "cell_type": "code",
   "execution_count": 111,
   "metadata": {},
   "outputs": [
    {
     "ename": "XGBoostError",
     "evalue": "XGBoost Library (libxgboost.dylib) could not be loaded.\nLikely causes:\n  * OpenMP runtime is not installed (vcomp140.dll or libgomp-1.dll for Windows, libomp.dylib for Mac OSX, libgomp.so for Linux and other UNIX-like OSes). Mac OSX users: Run `brew install libomp` to install OpenMP runtime.\n  * You are running 32-bit Python on a 64-bit OS\nError message(s): ['dlopen(/Users/kevinxu/opt/miniconda3/envs/pred/lib/python3.8/site-packages/xgboost/lib/libxgboost.dylib, 6): Library not loaded: /usr/local/opt/libomp/lib/libomp.dylib\\n  Referenced from: /Users/kevinxu/opt/miniconda3/envs/pred/lib/python3.8/site-packages/xgboost/lib/libxgboost.dylib\\n  Reason: image not found']\n",
     "output_type": "error",
     "traceback": [
      "\u001b[0;31m---------------------------------------------------------------------------\u001b[0m",
      "\u001b[0;31mXGBoostError\u001b[0m                              Traceback (most recent call last)",
      "\u001b[0;32m<ipython-input-111-de10e963628f>\u001b[0m in \u001b[0;36m<module>\u001b[0;34m\u001b[0m\n\u001b[0;32m----> 1\u001b[0;31m \u001b[0;32mimport\u001b[0m \u001b[0mxgboost\u001b[0m\u001b[0;34m\u001b[0m\u001b[0;34m\u001b[0m\u001b[0m\n\u001b[0m\u001b[1;32m      2\u001b[0m \u001b[0;34m\u001b[0m\u001b[0m\n\u001b[1;32m      3\u001b[0m \u001b[0mxg\u001b[0m \u001b[0;34m=\u001b[0m \u001b[0mxgboost\u001b[0m\u001b[0;34m.\u001b[0m\u001b[0mXGBRegressor\u001b[0m\u001b[0;34m(\u001b[0m\u001b[0;34m)\u001b[0m\u001b[0;34m\u001b[0m\u001b[0;34m\u001b[0m\u001b[0m\n",
      "\u001b[0;32m~/opt/miniconda3/envs/pred/lib/python3.8/site-packages/xgboost/__init__.py\u001b[0m in \u001b[0;36m<module>\u001b[0;34m\u001b[0m\n\u001b[1;32m      7\u001b[0m \u001b[0;32mimport\u001b[0m \u001b[0mos\u001b[0m\u001b[0;34m\u001b[0m\u001b[0;34m\u001b[0m\u001b[0m\n\u001b[1;32m      8\u001b[0m \u001b[0;34m\u001b[0m\u001b[0m\n\u001b[0;32m----> 9\u001b[0;31m \u001b[0;32mfrom\u001b[0m \u001b[0;34m.\u001b[0m\u001b[0mcore\u001b[0m \u001b[0;32mimport\u001b[0m \u001b[0mDMatrix\u001b[0m\u001b[0;34m,\u001b[0m \u001b[0mDeviceQuantileDMatrix\u001b[0m\u001b[0;34m,\u001b[0m \u001b[0mBooster\u001b[0m\u001b[0;34m\u001b[0m\u001b[0;34m\u001b[0m\u001b[0m\n\u001b[0m\u001b[1;32m     10\u001b[0m \u001b[0;32mfrom\u001b[0m \u001b[0;34m.\u001b[0m\u001b[0mtraining\u001b[0m \u001b[0;32mimport\u001b[0m \u001b[0mtrain\u001b[0m\u001b[0;34m,\u001b[0m \u001b[0mcv\u001b[0m\u001b[0;34m\u001b[0m\u001b[0;34m\u001b[0m\u001b[0m\n\u001b[1;32m     11\u001b[0m \u001b[0;32mfrom\u001b[0m \u001b[0;34m.\u001b[0m \u001b[0;32mimport\u001b[0m \u001b[0mrabit\u001b[0m  \u001b[0;31m# noqa\u001b[0m\u001b[0;34m\u001b[0m\u001b[0;34m\u001b[0m\u001b[0m\n",
      "\u001b[0;32m~/opt/miniconda3/envs/pred/lib/python3.8/site-packages/xgboost/core.py\u001b[0m in \u001b[0;36m<module>\u001b[0;34m\u001b[0m\n\u001b[1;32m    172\u001b[0m \u001b[0;34m\u001b[0m\u001b[0m\n\u001b[1;32m    173\u001b[0m \u001b[0;31m# load the XGBoost library globally\u001b[0m\u001b[0;34m\u001b[0m\u001b[0;34m\u001b[0m\u001b[0;34m\u001b[0m\u001b[0m\n\u001b[0;32m--> 174\u001b[0;31m \u001b[0m_LIB\u001b[0m \u001b[0;34m=\u001b[0m \u001b[0m_load_lib\u001b[0m\u001b[0;34m(\u001b[0m\u001b[0;34m)\u001b[0m\u001b[0;34m\u001b[0m\u001b[0;34m\u001b[0m\u001b[0m\n\u001b[0m\u001b[1;32m    175\u001b[0m \u001b[0;34m\u001b[0m\u001b[0m\n\u001b[1;32m    176\u001b[0m \u001b[0;34m\u001b[0m\u001b[0m\n",
      "\u001b[0;32m~/opt/miniconda3/envs/pred/lib/python3.8/site-packages/xgboost/core.py\u001b[0m in \u001b[0;36m_load_lib\u001b[0;34m()\u001b[0m\n\u001b[1;32m    155\u001b[0m     \u001b[0;32mif\u001b[0m \u001b[0;32mnot\u001b[0m \u001b[0mlib_success\u001b[0m\u001b[0;34m:\u001b[0m\u001b[0;34m\u001b[0m\u001b[0;34m\u001b[0m\u001b[0m\n\u001b[1;32m    156\u001b[0m         \u001b[0mlibname\u001b[0m \u001b[0;34m=\u001b[0m \u001b[0mos\u001b[0m\u001b[0;34m.\u001b[0m\u001b[0mpath\u001b[0m\u001b[0;34m.\u001b[0m\u001b[0mbasename\u001b[0m\u001b[0;34m(\u001b[0m\u001b[0mlib_paths\u001b[0m\u001b[0;34m[\u001b[0m\u001b[0;36m0\u001b[0m\u001b[0;34m]\u001b[0m\u001b[0;34m)\u001b[0m\u001b[0;34m\u001b[0m\u001b[0;34m\u001b[0m\u001b[0m\n\u001b[0;32m--> 157\u001b[0;31m         raise XGBoostError(\n\u001b[0m\u001b[1;32m    158\u001b[0m             \u001b[0;34m'XGBoost Library ({}) could not be loaded.\\n'\u001b[0m\u001b[0;34m.\u001b[0m\u001b[0mformat\u001b[0m\u001b[0;34m(\u001b[0m\u001b[0mlibname\u001b[0m\u001b[0;34m)\u001b[0m \u001b[0;34m+\u001b[0m\u001b[0;34m\u001b[0m\u001b[0;34m\u001b[0m\u001b[0m\n\u001b[1;32m    159\u001b[0m             \u001b[0;34m'Likely causes:\\n'\u001b[0m \u001b[0;34m+\u001b[0m\u001b[0;34m\u001b[0m\u001b[0;34m\u001b[0m\u001b[0m\n",
      "\u001b[0;31mXGBoostError\u001b[0m: XGBoost Library (libxgboost.dylib) could not be loaded.\nLikely causes:\n  * OpenMP runtime is not installed (vcomp140.dll or libgomp-1.dll for Windows, libomp.dylib for Mac OSX, libgomp.so for Linux and other UNIX-like OSes). Mac OSX users: Run `brew install libomp` to install OpenMP runtime.\n  * You are running 32-bit Python on a 64-bit OS\nError message(s): ['dlopen(/Users/kevinxu/opt/miniconda3/envs/pred/lib/python3.8/site-packages/xgboost/lib/libxgboost.dylib, 6): Library not loaded: /usr/local/opt/libomp/lib/libomp.dylib\\n  Referenced from: /Users/kevinxu/opt/miniconda3/envs/pred/lib/python3.8/site-packages/xgboost/lib/libxgboost.dylib\\n  Reason: image not found']\n"
     ]
    }
   ],
   "source": [
    "import xgboost\n",
    "\n",
    "xg = xgboost.XGBRegressor()"
   ]
  },
  {
   "cell_type": "code",
   "execution_count": null,
   "metadata": {},
   "outputs": [],
   "source": [
    "n_estimators = [100, 500, 900, 1100, 1500]\n",
    "max_depth = [2, 3, 5, 10, 15]\n",
    "booster=['gbtree','gblinear']\n",
    "learning_rate=[0.05,0.1,0.15,0.20]\n",
    "min_child_weight=[1,2,3,4]\n",
    "base_score=[0.25,0.5,0.75,1]\n",
    "\n",
    "hyperparameter_grid_xg = {\n",
    "    'n_estimators': n_estimators,\n",
    "    'max_depth':max_depth,\n",
    "    'learning_rate':learning_rate,\n",
    "    'min_child_weight':min_child_weight,\n",
    "    'booster':booster,\n",
    "    'base_score':base_score\n",
    "    }\n",
    "random_cv = RandomizedSearchCV(estimator=xg,\n",
    "            param_distributions=hyperparameter_grid_xg,\n",
    "            cv=5, n_iter=50,\n",
    "            scoring = 'neg_mean_absolute_error',n_jobs = 4,\n",
    "            verbose = 5, \n",
    "            return_train_score = True,\n",
    "            random_state=42)"
   ]
  },
  {
   "cell_type": "code",
   "execution_count": null,
   "metadata": {},
   "outputs": [],
   "source": [
    "random_cv.fit(X_train,y_train)"
   ]
  },
  {
   "cell_type": "code",
   "execution_count": null,
   "metadata": {},
   "outputs": [],
   "source": [
    "xg = xgboost.XGBRegressor(base_score=0.25, booster='gbtree', colsample_bylevel=1,\n",
    "             colsample_bynode=1, colsample_bytree=1, gamma=0, gpu_id=-1,\n",
    "             importance_type='gain', interaction_constraints='',\n",
    "             learning_rate=0.1, max_delta_step=0, max_depth=2,\n",
    "             min_child_weight=1, missing=None, monotone_constraints='()',\n",
    "             n_estimators=900, n_jobs=0, num_parallel_tree=1, random_state=0,\n",
    "             reg_alpha=0, reg_lambda=1, scale_pos_weight=1, subsample=1,\n",
    "             tree_method='exact', validate_parameters=1, verbosity=None)"
   ]
  },
  {
   "cell_type": "code",
   "execution_count": null,
   "metadata": {},
   "outputs": [],
   "source": [
    "xg.fit(X_train, y_train)\n",
    "\n",
    "y_pred_xg = xg.predict(df_test)"
   ]
  },
  {
   "cell_type": "code",
   "execution_count": null,
   "metadata": {},
   "outputs": [],
   "source": [
    "y_pred_xg"
   ]
  },
  {
   "cell_type": "code",
   "execution_count": null,
   "metadata": {},
   "outputs": [],
   "source": [
    "pred_xg = pd.DataFrame(y_pred_xg)\n",
    "sub_xg = pd.concat([ori_test['Id'], pred_xg], axis=1)\n",
    "sub_xg.columns = ['Id', 'SalePrice']"
   ]
  },
  {
   "cell_type": "code",
   "execution_count": null,
   "metadata": {},
   "outputs": [],
   "source": [
    "sub_xg"
   ]
  },
  {
   "cell_type": "code",
   "execution_count": null,
   "metadata": {},
   "outputs": [],
   "source": [
    "sub_xg.to_csv('/home/kevinxu/data/out/sub_xg.csv')"
   ]
  },
  {
   "cell_type": "code",
   "execution_count": null,
   "metadata": {},
   "outputs": [],
   "source": []
  }
 ],
 "metadata": {
  "kernelspec": {
   "display_name": "Python 3",
   "language": "python",
   "name": "python3"
  },
  "language_info": {
   "codemirror_mode": {
    "name": "ipython",
    "version": 3
   },
   "file_extension": ".py",
   "mimetype": "text/x-python",
   "name": "python",
   "nbconvert_exporter": "python",
   "pygments_lexer": "ipython3",
   "version": "3.8.5"
  }
 },
 "nbformat": 4,
 "nbformat_minor": 4
}
