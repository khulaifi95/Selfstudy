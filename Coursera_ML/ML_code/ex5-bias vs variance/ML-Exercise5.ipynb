{
 "cells": [
  {
   "cell_type": "markdown",
   "metadata": {},
   "source": [
    "# 机器学习练习 5 - 偏差和方差"
   ]
  },
  {
   "cell_type": "markdown",
   "metadata": {},
   "source": [
    "本章代码涵盖了基于Python的解决方案，用于Coursera机器学习课程的第五个编程练习。 请参考[练习文本](ex5.pdf)了解详细的说明和公式。\n",
    "\n",
    "代码修改并注释：黄海广，haiguang2000@qq.com"
   ]
  },
  {
   "cell_type": "code",
   "execution_count": 238,
   "metadata": {},
   "outputs": [],
   "source": [
    "import numpy as np\n",
    "import scipy.io as sio\n",
    "import scipy.optimize as opt\n",
    "import pandas as pd\n",
    "import matplotlib.pyplot as plt\n",
    "import seaborn as sns"
   ]
  },
  {
   "cell_type": "code",
   "execution_count": 239,
   "metadata": {},
   "outputs": [],
   "source": [
    "def load_data():\n",
    "    \"\"\"for ex5\n",
    "    d['X'] shape = (12, 1)\n",
    "    pandas has trouble taking this 2d ndarray to construct a dataframe, so I ravel\n",
    "    the results\n",
    "    \"\"\"\n",
    "    d = sio.loadmat('ex5data1.mat')\n",
    "    return map(np.ravel, [d['X'], d['y'], d['Xval'], d['yval'], d['Xtest'], d['ytest']])"
   ]
  },
  {
   "cell_type": "code",
   "execution_count": 240,
   "metadata": {},
   "outputs": [],
   "source": [
    "X, y, Xval, yval, Xtest, ytest = load_data()"
   ]
  },
  {
   "cell_type": "code",
   "execution_count": 241,
   "metadata": {},
   "outputs": [
    {
     "data": {
      "text/plain": [
       "[array([-15.93675813, -29.15297922,  36.18954863,  37.49218733,\n",
       "        -48.05882945,  -8.94145794,  15.30779289, -34.70626581,\n",
       "          1.38915437, -44.38375985,   7.01350208,  22.76274892]),\n",
       " array([ 2.13431051,  1.17325668, 34.35910918, 36.83795516,  2.80896507,\n",
       "         2.12107248, 14.71026831,  2.61418439,  3.74017167,  3.73169131,\n",
       "         7.62765885, 22.7524283 ]),\n",
       " array([-16.74653578, -14.57747075,  34.51575866, -47.01007574,\n",
       "         36.97511905, -40.68611002,  -4.47201098,  26.53363489,\n",
       "        -42.7976831 ,  25.37409938, -31.10955398,  27.31176864,\n",
       "         -3.26386201,  -1.81827649, -40.7196624 , -50.01324365,\n",
       "        -17.41177155,   3.5881937 ,   7.08548026,  46.28236902,\n",
       "         14.61228909]),\n",
       " array([ 4.17020201e+00,  4.06726280e+00,  3.18730676e+01,  1.06236562e+01,\n",
       "         3.18360213e+01,  4.95936972e+00,  4.45159880e+00,  2.22763185e+01,\n",
       "        -4.38738274e-05,  2.05038016e+01,  3.85834476e+00,  1.93650529e+01,\n",
       "         4.88376281e+00,  1.10971588e+01,  7.46170827e+00,  1.47693464e+00,\n",
       "         2.71916388e+00,  1.09269007e+01,  8.34871235e+00,  5.27819280e+01,\n",
       "         1.33573396e+01]),\n",
       " array([-33.31800399, -37.91216403, -51.20693795,  -6.13259585,\n",
       "         21.26118327, -40.31952949, -14.54153167,  32.55976024,\n",
       "         13.39343255,  44.20988595,  -1.14267768, -12.76686065,\n",
       "         34.05450539,  39.22350028,   1.97449674,  29.6217551 ,\n",
       "        -23.66962971,  -9.01180139, -55.94057091, -35.70859752,\n",
       "          9.51020533]),\n",
       " array([ 3.31688953,  5.39768952,  0.13042984,  6.1925982 , 17.08848712,\n",
       "         0.79950805,  2.82479183, 28.62123334, 17.04639081, 55.38437334,\n",
       "         4.07936733,  8.27039793, 31.32355102, 39.15906103,  8.08727989,\n",
       "        24.11134389,  2.4773548 ,  6.56606472,  6.0380888 ,  4.69273956,\n",
       "        10.83004606])]"
      ]
     },
     "execution_count": 241,
     "metadata": {},
     "output_type": "execute_result"
    }
   ],
   "source": [
    "list(load_data())"
   ]
  },
  {
   "cell_type": "code",
   "execution_count": 242,
   "metadata": {},
   "outputs": [
    {
     "data": {
      "image/png": "[encoded data removed]",
      "text/plain": [
       "<Figure size 504x504 with 1 Axes>"
      ]
     },
     "metadata": {},
     "output_type": "display_data"
    }
   ],
   "source": [
    "df = pd.DataFrame({'water_level':X, 'flow':y})\n",
    "sns.set_context('notebook')\n",
    "sns.lmplot('water_level', 'flow', data=df, fit_reg=False, size=7)\n",
    "plt.show()"
   ]
  },
  {
   "cell_type": "code",
   "execution_count": 243,
   "metadata": {},
   "outputs": [],
   "source": [
    "X, Xval, Xtest = [np.insert(x.reshape(x.shape[0], 1), 0, np.ones(x.shape[0]), axis=1) for x in (X, Xval, Xtest)]"
   ]
  },
  {
   "cell_type": "markdown",
   "metadata": {},
   "source": [
    "# 代价函数\n",
    "<img style=\"float: left;\" src=\"../img/linear_cost.png\">"
   ]
  },
  {
   "cell_type": "code",
   "execution_count": 244,
   "metadata": {},
   "outputs": [
    {
     "data": {
      "text/plain": [
       "(array([[  1.        , -15.93675813],\n",
       "        [  1.        , -29.15297922],\n",
       "        [  1.        ,  36.18954863],\n",
       "        [  1.        ,  37.49218733],\n",
       "        [  1.        , -48.05882945],\n",
       "        [  1.        ,  -8.94145794],\n",
       "        [  1.        ,  15.30779289],\n",
       "        [  1.        , -34.70626581],\n",
       "        [  1.        ,   1.38915437],\n",
       "        [  1.        , -44.38375985],\n",
       "        [  1.        ,   7.01350208],\n",
       "        [  1.        ,  22.76274892]]), array([[  1.        , -16.74653578],\n",
       "        [  1.        , -14.57747075],\n",
       "        [  1.        ,  34.51575866],\n",
       "        [  1.        , -47.01007574],\n",
       "        [  1.        ,  36.97511905],\n",
       "        [  1.        , -40.68611002],\n",
       "        [  1.        ,  -4.47201098],\n",
       "        [  1.        ,  26.53363489],\n",
       "        [  1.        , -42.7976831 ],\n",
       "        [  1.        ,  25.37409938],\n",
       "        [  1.        , -31.10955398],\n",
       "        [  1.        ,  27.31176864],\n",
       "        [  1.        ,  -3.26386201],\n",
       "        [  1.        ,  -1.81827649],\n",
       "        [  1.        , -40.7196624 ],\n",
       "        [  1.        , -50.01324365],\n",
       "        [  1.        , -17.41177155],\n",
       "        [  1.        ,   3.5881937 ],\n",
       "        [  1.        ,   7.08548026],\n",
       "        [  1.        ,  46.28236902],\n",
       "        [  1.        ,  14.61228909]]), array([[  1.        , -33.31800399],\n",
       "        [  1.        , -37.91216403],\n",
       "        [  1.        , -51.20693795],\n",
       "        [  1.        ,  -6.13259585],\n",
       "        [  1.        ,  21.26118327],\n",
       "        [  1.        , -40.31952949],\n",
       "        [  1.        , -14.54153167],\n",
       "        [  1.        ,  32.55976024],\n",
       "        [  1.        ,  13.39343255],\n",
       "        [  1.        ,  44.20988595],\n",
       "        [  1.        ,  -1.14267768],\n",
       "        [  1.        , -12.76686065],\n",
       "        [  1.        ,  34.05450539],\n",
       "        [  1.        ,  39.22350028],\n",
       "        [  1.        ,   1.97449674],\n",
       "        [  1.        ,  29.6217551 ],\n",
       "        [  1.        , -23.66962971],\n",
       "        [  1.        ,  -9.01180139],\n",
       "        [  1.        , -55.94057091],\n",
       "        [  1.        , -35.70859752],\n",
       "        [  1.        ,   9.51020533]]))"
      ]
     },
     "execution_count": 244,
     "metadata": {},
     "output_type": "execute_result"
    }
   ],
   "source": [
    "(X, Xval, Xtest)"
   ]
  },
  {
   "cell_type": "code",
   "execution_count": 245,
   "metadata": {},
   "outputs": [
    {
     "data": {
      "text/plain": [
       "(array([[  1.        , -15.93675813],\n",
       "        [  1.        , -29.15297922],\n",
       "        [  1.        ,  36.18954863],\n",
       "        [  1.        ,  37.49218733],\n",
       "        [  1.        , -48.05882945],\n",
       "        [  1.        ,  -8.94145794],\n",
       "        [  1.        ,  15.30779289],\n",
       "        [  1.        , -34.70626581],\n",
       "        [  1.        ,   1.38915437],\n",
       "        [  1.        , -44.38375985],\n",
       "        [  1.        ,   7.01350208],\n",
       "        [  1.        ,  22.76274892]]), array([[  1.        , -16.74653578],\n",
       "        [  1.        , -14.57747075],\n",
       "        [  1.        ,  34.51575866],\n",
       "        [  1.        , -47.01007574],\n",
       "        [  1.        ,  36.97511905],\n",
       "        [  1.        , -40.68611002],\n",
       "        [  1.        ,  -4.47201098],\n",
       "        [  1.        ,  26.53363489],\n",
       "        [  1.        , -42.7976831 ],\n",
       "        [  1.        ,  25.37409938],\n",
       "        [  1.        , -31.10955398],\n",
       "        [  1.        ,  27.31176864],\n",
       "        [  1.        ,  -3.26386201],\n",
       "        [  1.        ,  -1.81827649],\n",
       "        [  1.        , -40.7196624 ],\n",
       "        [  1.        , -50.01324365],\n",
       "        [  1.        , -17.41177155],\n",
       "        [  1.        ,   3.5881937 ],\n",
       "        [  1.        ,   7.08548026],\n",
       "        [  1.        ,  46.28236902],\n",
       "        [  1.        ,  14.61228909]]), array([[  1.        , -33.31800399],\n",
       "        [  1.        , -37.91216403],\n",
       "        [  1.        , -51.20693795],\n",
       "        [  1.        ,  -6.13259585],\n",
       "        [  1.        ,  21.26118327],\n",
       "        [  1.        , -40.31952949],\n",
       "        [  1.        , -14.54153167],\n",
       "        [  1.        ,  32.55976024],\n",
       "        [  1.        ,  13.39343255],\n",
       "        [  1.        ,  44.20988595],\n",
       "        [  1.        ,  -1.14267768],\n",
       "        [  1.        , -12.76686065],\n",
       "        [  1.        ,  34.05450539],\n",
       "        [  1.        ,  39.22350028],\n",
       "        [  1.        ,   1.97449674],\n",
       "        [  1.        ,  29.6217551 ],\n",
       "        [  1.        , -23.66962971],\n",
       "        [  1.        ,  -9.01180139],\n",
       "        [  1.        , -55.94057091],\n",
       "        [  1.        , -35.70859752],\n",
       "        [  1.        ,   9.51020533]]))"
      ]
     },
     "execution_count": 245,
     "metadata": {},
     "output_type": "execute_result"
    }
   ],
   "source": [
    "(X, Xval, Xtest)"
   ]
  },
  {
   "cell_type": "code",
   "execution_count": 246,
   "metadata": {},
   "outputs": [],
   "source": [
    "def cost(theta, X, y):\n",
    "    \"\"\"\n",
    "    X: R(m*n), m records, n features\n",
    "    y: R(m)\n",
    "    theta : R(n), linear regression parameters\n",
    "    \"\"\"\n",
    "    m = X.shape[0]\n",
    "\n",
    "    inner = X @ theta - y  # R(m*1)\n",
    "\n",
    "    # 1*m @ m*1 = 1*1 in matrix multiplication\n",
    "    # but you know numpy didn't do transpose in 1d array, so here is just a\n",
    "    # vector inner product to itselves\n",
    "    square_sum = inner.T @ inner\n",
    "    cost = square_sum / (2 * m)\n",
    "\n",
    "    return cost"
   ]
  },
  {
   "cell_type": "code",
   "execution_count": 247,
   "metadata": {},
   "outputs": [
    {
     "data": {
      "text/plain": [
       "303.9515255535976"
      ]
     },
     "execution_count": 247,
     "metadata": {},
     "output_type": "execute_result"
    }
   ],
   "source": [
    "theta = np.ones(X.shape[1])\n",
    "cost(theta, X, y)"
   ]
  },
  {
   "cell_type": "markdown",
   "metadata": {},
   "source": [
    "# 梯度\n",
    "<img style=\"float: left;\" src=\"../img/linear_gradient.png\">"
   ]
  },
  {
   "cell_type": "code",
   "execution_count": 248,
   "metadata": {},
   "outputs": [],
   "source": [
    "def gradient(theta, X, y):\n",
    "    m = X.shape[0]\n",
    "\n",
    "    inner = X.T @ (X @ theta - y)  # (m,n).T @ (m, 1) -> (n, 1)\n",
    "\n",
    "    return inner / m"
   ]
  },
  {
   "cell_type": "code",
   "execution_count": 249,
   "metadata": {},
   "outputs": [
    {
     "data": {
      "text/plain": [
       "array([-15.30301567, 598.16741084])"
      ]
     },
     "execution_count": 249,
     "metadata": {},
     "output_type": "execute_result"
    }
   ],
   "source": [
    "gradient(theta, X, y)"
   ]
  },
  {
   "cell_type": "markdown",
   "metadata": {},
   "source": [
    "# 正则化梯度\n",
    "<img style=\"float: left;\" src=\"../img/linear_reg_gradient.png\">"
   ]
  },
  {
   "cell_type": "code",
   "execution_count": 250,
   "metadata": {},
   "outputs": [],
   "source": [
    "def regularized_gradient(theta, X, y, l=1):\n",
    "    m = X.shape[0]\n",
    "\n",
    "    regularized_term = theta.copy()  # same shape as theta\n",
    "    regularized_term[0] = 0  # don't regularize intercept theta\n",
    "\n",
    "    regularized_term = (l / m) * regularized_term\n",
    "\n",
    "    return gradient(theta, X, y) + regularized_term"
   ]
  },
  {
   "cell_type": "code",
   "execution_count": 251,
   "metadata": {},
   "outputs": [
    {
     "data": {
      "text/plain": [
       "303.9931922202643"
      ]
     },
     "execution_count": 251,
     "metadata": {},
     "output_type": "execute_result"
    }
   ],
   "source": [
    "regularized_cost(theta, X, y)"
   ]
  },
  {
   "cell_type": "code",
   "execution_count": 252,
   "metadata": {},
   "outputs": [
    {
     "data": {
      "text/plain": [
       "array([-15.30301567, 598.25074417])"
      ]
     },
     "execution_count": 252,
     "metadata": {},
     "output_type": "execute_result"
    }
   ],
   "source": [
    "regularized_gradient(theta, X, y)"
   ]
  },
  {
   "cell_type": "markdown",
   "metadata": {},
   "source": [
    "# 拟合数据\n",
    "> 正则化项 $\\lambda=0$"
   ]
  },
  {
   "cell_type": "code",
   "execution_count": 253,
   "metadata": {},
   "outputs": [],
   "source": [
    "def linear_regression_np(X, y, l=1):\n",
    "    \"\"\"linear regression\n",
    "    args:\n",
    "        X: feature matrix, (m, n+1) # with incercept x0=1\n",
    "        y: target vector, (m, )\n",
    "        l: lambda constant for regularization\n",
    "\n",
    "    return: trained parameters\n",
    "    \"\"\"\n",
    "    # init theta\n",
    "    theta = np.ones(X.shape[1])\n",
    "\n",
    "    # train it\n",
    "    res = opt.minimize(fun=regularized_cost,\n",
    "                       x0=theta,\n",
    "                       args=(X, y, l),\n",
    "                       method='TNC',\n",
    "                       jac=regularized_gradient,\n",
    "                       options={'disp': True})\n",
    "    return res\n"
   ]
  },
  {
   "cell_type": "code",
   "execution_count": 254,
   "metadata": {},
   "outputs": [
    {
     "data": {
      "text/plain": [
       "array([-15.30301567, 598.25074417])"
      ]
     },
     "execution_count": 254,
     "metadata": {},
     "output_type": "execute_result"
    }
   ],
   "source": [
    "regularized_gradient(theta, X, y)"
   ]
  },
  {
   "cell_type": "code",
   "execution_count": 255,
   "metadata": {},
   "outputs": [
    {
     "name": "stdout",
     "output_type": "stream",
     "text": [
      "[13.08771416  0.367742  ]\n"
     ]
    }
   ],
   "source": [
    "theta = np.ones(X.shape[1])\n",
    "for _ in range(100000):\n",
    "    step_gradient = regularized_gradient(theta, X, y)\n",
    "    theta = theta - 0.001*step_gradient\n",
    "print(theta)"
   ]
  },
  {
   "cell_type": "code",
   "execution_count": 256,
   "metadata": {},
   "outputs": [
    {
     "data": {
      "text/plain": [
       "     fun: 22.37954182294026\n",
       "     jac: array([1.25341733e-08, 8.56473651e-08])\n",
       " message: 'Local minimum reached (|pg| ~= 0)'\n",
       "    nfev: 7\n",
       "     nit: 3\n",
       "  status: 0\n",
       " success: True\n",
       "       x: array([13.08771417,  0.367742  ])"
      ]
     },
     "execution_count": 256,
     "metadata": {},
     "output_type": "execute_result"
    }
   ],
   "source": [
    "linear_regression_np(X, y)"
   ]
  },
  {
   "cell_type": "code",
   "execution_count": 257,
   "metadata": {},
   "outputs": [],
   "source": [
    "def regularized_cost(theta, X, y, l=1):\n",
    "    m = X.shape[0]\n",
    "\n",
    "    regularized_term = (l / (2 * m)) * np.power(theta[1:], 2).sum()\n",
    "\n",
    "    return cost(theta, X, y) + regularized_term"
   ]
  },
  {
   "cell_type": "code",
   "execution_count": 258,
   "metadata": {},
   "outputs": [],
   "source": [
    "theta = np.ones(X.shape[0])\n",
    "\n",
    "final_theta = linear_regression_np(X, y, l=0).get('x')"
   ]
  },
  {
   "cell_type": "code",
   "execution_count": null,
   "metadata": {},
   "outputs": [],
   "source": []
  },
  {
   "cell_type": "code",
   "execution_count": 259,
   "metadata": {},
   "outputs": [
    {
     "data": {
      "image/png": "[encoded data removed]",
      "text/plain": [
       "<Figure size 432x288 with 1 Axes>"
      ]
     },
     "metadata": {},
     "output_type": "display_data"
    }
   ],
   "source": [
    "b = final_theta[0] # intercept\n",
    "m = final_theta[1] # slope\n",
    "\n",
    "plt.scatter(X[:,1], y, label=\"Training data\")\n",
    "plt.plot(X[:, 1], X[:, 1]*m + b, label=\"Prediction\")\n",
    "plt.scatter(Xtest[:, 1], ytest, c='r', label=\"test data\")\n",
    "plt.scatter(Xval[:, 1], yval, c='g', label=\"vc data\")\n",
    "plt.legend(loc=2)\n",
    "plt.show()"
   ]
  },
  {
   "cell_type": "code",
   "execution_count": 260,
   "metadata": {},
   "outputs": [],
   "source": [
    "training_cost, cv_cost = [], []"
   ]
  },
  {
   "cell_type": "markdown",
   "metadata": {},
   "source": [
    "1.使用训练集的子集来拟合应模型\n",
    "\n",
    "2.在计算训练代价和交叉验证代价时，没有用正则化\n",
    "\n",
    "3.记住使用相同的训练集子集来计算训练代价"
   ]
  },
  {
   "cell_type": "code",
   "execution_count": 261,
   "metadata": {},
   "outputs": [
    {
     "name": "stdout",
     "output_type": "stream",
     "text": [
      "i=1\n",
      "tc=8.631534185484672e-18, cv=169.87070840820138\n",
      "i=2\n",
      "tc=1.1982973737990733e-17, cv=110.30036579345536\n",
      "i=3\n",
      "tc=3.2865950455012705, cv=45.01023129175528\n",
      "i=4\n",
      "tc=2.842677689399799, cv=48.36891142759898\n",
      "i=5\n",
      "tc=13.154048809114986, cv=35.86516378053954\n",
      "i=6\n",
      "tc=19.443962512495503, cv=33.82996187443447\n",
      "i=7\n",
      "tc=20.098521655088927, cv=31.970985697553708\n",
      "i=8\n",
      "tc=18.17285869520003, cv=30.862446276219675\n",
      "i=9\n",
      "tc=22.609405424954723, cv=31.135997980730654\n",
      "i=10\n",
      "tc=23.261461592611823, cv=28.9362075578165\n",
      "i=11\n",
      "tc=24.317249588044316, cv=29.55143239179086\n",
      "i=12\n",
      "tc=22.373906495108912, cv=29.433818153684726\n"
     ]
    }
   ],
   "source": [
    "training_cost, cv_cost = [], []\n",
    "m = X.shape[0]\n",
    "for i in range(1, m+1):\n",
    "    print('i={}'.format(i))\n",
    "    res = linear_regression_np(X[:i, :], y[:i], l=0)\n",
    "    \n",
    "    tc = regularized_cost(res.x, X[:i, :], y[:i], l=0)\n",
    "    cv = regularized_cost(res.x, Xval, yval, l=0)\n",
    "    print('tc={}, cv={}'.format(tc, cv))\n",
    "    \n",
    "    training_cost.append(tc)\n",
    "    cv_cost.append(cv)"
   ]
  },
  {
   "cell_type": "code",
   "execution_count": 262,
   "metadata": {},
   "outputs": [
    {
     "data": {
      "image/png": "[encoded data removed]",
      "text/plain": [
       "<Figure size 432x288 with 1 Axes>"
      ]
     },
     "metadata": {},
     "output_type": "display_data"
    }
   ],
   "source": [
    "plt.plot(np.arange(1, m+1), training_cost, label='training cost')\n",
    "plt.plot(np.arange(1, m+1), cv_cost, label='cv cost')\n",
    "plt.legend(loc=1)\n",
    "plt.xlabel('set size')\n",
    "plt.ylabel('error')\n",
    "plt.show()"
   ]
  },
  {
   "cell_type": "markdown",
   "metadata": {},
   "source": [
    "这个模型拟合不太好, **欠拟合了**"
   ]
  },
  {
   "cell_type": "markdown",
   "metadata": {},
   "source": [
    "# 创建多项式特征"
   ]
  },
  {
   "cell_type": "code",
   "execution_count": 263,
   "metadata": {},
   "outputs": [],
   "source": [
    "def prepare_poly_data(*args, power):\n",
    "    \"\"\"\n",
    "    args: keep feeding in X, Xval, or Xtest\n",
    "        will return in the same order\n",
    "    \"\"\"\n",
    "    def prepare(x):\n",
    "        # expand feature\n",
    "        df = poly_features(x, power=power)\n",
    "\n",
    "        # normalization\n",
    "        ndarr = normalize_feature(df).as_matrix()\n",
    "\n",
    "        # add intercept term\n",
    "        return np.insert(ndarr, 0, np.ones(ndarr.shape[0]), axis=1)\n",
    "\n",
    "    return [prepare(x) for x in args]"
   ]
  },
  {
   "cell_type": "code",
   "execution_count": 264,
   "metadata": {},
   "outputs": [],
   "source": [
    "def poly_features(x, power, as_ndarray=False):\n",
    "    data = {'f{}'.format(i): np.power(x, i) for i in range(1, power + 1)}\n",
    "    df = pd.DataFrame(data)\n",
    "\n",
    "    return df.as_matrix() if as_ndarray else df\n"
   ]
  },
  {
   "cell_type": "code",
   "execution_count": 265,
   "metadata": {},
   "outputs": [],
   "source": [
    "X, y, Xval, yval, Xtest, ytest = load_data()"
   ]
  },
  {
   "cell_type": "code",
   "execution_count": 266,
   "metadata": {},
   "outputs": [
    {
     "data": {
      "text/html": [
       "<div>\n",
       "<style scoped>\n",
       "    .dataframe tbody tr th:only-of-type {\n",
       "        vertical-align: middle;\n",
       "    }\n",
       "\n",
       "    .dataframe tbody tr th {\n",
       "        vertical-align: top;\n",
       "    }\n",
       "\n",
       "    .dataframe thead th {\n",
       "        text-align: right;\n",
       "    }\n",
       "</style>\n",
       "<table border=\"1\" class=\"dataframe\">\n",
       "  <thead>\n",
       "    <tr style=\"text-align: right;\">\n",
       "      <th></th>\n",
       "      <th>f1</th>\n",
       "      <th>f2</th>\n",
       "      <th>f3</th>\n",
       "    </tr>\n",
       "  </thead>\n",
       "  <tbody>\n",
       "    <tr>\n",
       "      <th>0</th>\n",
       "      <td>-15.936758</td>\n",
       "      <td>253.980260</td>\n",
       "      <td>-4047.621971</td>\n",
       "    </tr>\n",
       "    <tr>\n",
       "      <th>1</th>\n",
       "      <td>-29.152979</td>\n",
       "      <td>849.896197</td>\n",
       "      <td>-24777.006175</td>\n",
       "    </tr>\n",
       "    <tr>\n",
       "      <th>2</th>\n",
       "      <td>36.189549</td>\n",
       "      <td>1309.683430</td>\n",
       "      <td>47396.852168</td>\n",
       "    </tr>\n",
       "    <tr>\n",
       "      <th>3</th>\n",
       "      <td>37.492187</td>\n",
       "      <td>1405.664111</td>\n",
       "      <td>52701.422173</td>\n",
       "    </tr>\n",
       "    <tr>\n",
       "      <th>4</th>\n",
       "      <td>-48.058829</td>\n",
       "      <td>2309.651088</td>\n",
       "      <td>-110999.127750</td>\n",
       "    </tr>\n",
       "    <tr>\n",
       "      <th>5</th>\n",
       "      <td>-8.941458</td>\n",
       "      <td>79.949670</td>\n",
       "      <td>-714.866612</td>\n",
       "    </tr>\n",
       "    <tr>\n",
       "      <th>6</th>\n",
       "      <td>15.307793</td>\n",
       "      <td>234.328523</td>\n",
       "      <td>3587.052500</td>\n",
       "    </tr>\n",
       "    <tr>\n",
       "      <th>7</th>\n",
       "      <td>-34.706266</td>\n",
       "      <td>1204.524887</td>\n",
       "      <td>-41804.560890</td>\n",
       "    </tr>\n",
       "    <tr>\n",
       "      <th>8</th>\n",
       "      <td>1.389154</td>\n",
       "      <td>1.929750</td>\n",
       "      <td>2.680720</td>\n",
       "    </tr>\n",
       "    <tr>\n",
       "      <th>9</th>\n",
       "      <td>-44.383760</td>\n",
       "      <td>1969.918139</td>\n",
       "      <td>-87432.373590</td>\n",
       "    </tr>\n",
       "    <tr>\n",
       "      <th>10</th>\n",
       "      <td>7.013502</td>\n",
       "      <td>49.189211</td>\n",
       "      <td>344.988637</td>\n",
       "    </tr>\n",
       "    <tr>\n",
       "      <th>11</th>\n",
       "      <td>22.762749</td>\n",
       "      <td>518.142738</td>\n",
       "      <td>11794.353058</td>\n",
       "    </tr>\n",
       "  </tbody>\n",
       "</table>\n",
       "</div>"
      ],
      "text/plain": [
       "           f1           f2             f3\n",
       "0  -15.936758   253.980260   -4047.621971\n",
       "1  -29.152979   849.896197  -24777.006175\n",
       "2   36.189549  1309.683430   47396.852168\n",
       "3   37.492187  1405.664111   52701.422173\n",
       "4  -48.058829  2309.651088 -110999.127750\n",
       "5   -8.941458    79.949670    -714.866612\n",
       "6   15.307793   234.328523    3587.052500\n",
       "7  -34.706266  1204.524887  -41804.560890\n",
       "8    1.389154     1.929750       2.680720\n",
       "9  -44.383760  1969.918139  -87432.373590\n",
       "10   7.013502    49.189211     344.988637\n",
       "11  22.762749   518.142738   11794.353058"
      ]
     },
     "execution_count": 266,
     "metadata": {},
     "output_type": "execute_result"
    }
   ],
   "source": [
    "poly_features(X, power=3)"
   ]
  },
  {
   "cell_type": "code",
   "execution_count": 267,
   "metadata": {},
   "outputs": [
    {
     "data": {
      "text/html": [
       "<div>\n",
       "<style scoped>\n",
       "    .dataframe tbody tr th:only-of-type {\n",
       "        vertical-align: middle;\n",
       "    }\n",
       "\n",
       "    .dataframe tbody tr th {\n",
       "        vertical-align: top;\n",
       "    }\n",
       "\n",
       "    .dataframe thead th {\n",
       "        text-align: right;\n",
       "    }\n",
       "</style>\n",
       "<table border=\"1\" class=\"dataframe\">\n",
       "  <thead>\n",
       "    <tr style=\"text-align: right;\">\n",
       "      <th></th>\n",
       "      <th>f1</th>\n",
       "      <th>f2</th>\n",
       "      <th>f3</th>\n",
       "    </tr>\n",
       "  </thead>\n",
       "  <tbody>\n",
       "    <tr>\n",
       "      <th>0</th>\n",
       "      <td>-0.362141</td>\n",
       "      <td>-0.755087</td>\n",
       "      <td>0.182226</td>\n",
       "    </tr>\n",
       "    <tr>\n",
       "      <th>1</th>\n",
       "      <td>-0.803205</td>\n",
       "      <td>0.001258</td>\n",
       "      <td>-0.247937</td>\n",
       "    </tr>\n",
       "    <tr>\n",
       "      <th>2</th>\n",
       "      <td>1.377467</td>\n",
       "      <td>0.584827</td>\n",
       "      <td>1.249769</td>\n",
       "    </tr>\n",
       "    <tr>\n",
       "      <th>3</th>\n",
       "      <td>1.420940</td>\n",
       "      <td>0.706647</td>\n",
       "      <td>1.359846</td>\n",
       "    </tr>\n",
       "    <tr>\n",
       "      <th>4</th>\n",
       "      <td>-1.434149</td>\n",
       "      <td>1.854000</td>\n",
       "      <td>-2.037163</td>\n",
       "    </tr>\n",
       "    <tr>\n",
       "      <th>5</th>\n",
       "      <td>-0.128687</td>\n",
       "      <td>-0.975969</td>\n",
       "      <td>0.251385</td>\n",
       "    </tr>\n",
       "    <tr>\n",
       "      <th>6</th>\n",
       "      <td>0.680582</td>\n",
       "      <td>-0.780029</td>\n",
       "      <td>0.340656</td>\n",
       "    </tr>\n",
       "    <tr>\n",
       "      <th>7</th>\n",
       "      <td>-0.988534</td>\n",
       "      <td>0.451358</td>\n",
       "      <td>-0.601282</td>\n",
       "    </tr>\n",
       "    <tr>\n",
       "      <th>8</th>\n",
       "      <td>0.216076</td>\n",
       "      <td>-1.074993</td>\n",
       "      <td>0.266275</td>\n",
       "    </tr>\n",
       "    <tr>\n",
       "      <th>9</th>\n",
       "      <td>-1.311501</td>\n",
       "      <td>1.422806</td>\n",
       "      <td>-1.548121</td>\n",
       "    </tr>\n",
       "    <tr>\n",
       "      <th>10</th>\n",
       "      <td>0.403777</td>\n",
       "      <td>-1.015010</td>\n",
       "      <td>0.273379</td>\n",
       "    </tr>\n",
       "    <tr>\n",
       "      <th>11</th>\n",
       "      <td>0.929375</td>\n",
       "      <td>-0.419808</td>\n",
       "      <td>0.510968</td>\n",
       "    </tr>\n",
       "  </tbody>\n",
       "</table>\n",
       "</div>"
      ],
      "text/plain": [
       "          f1        f2        f3\n",
       "0  -0.362141 -0.755087  0.182226\n",
       "1  -0.803205  0.001258 -0.247937\n",
       "2   1.377467  0.584827  1.249769\n",
       "3   1.420940  0.706647  1.359846\n",
       "4  -1.434149  1.854000 -2.037163\n",
       "5  -0.128687 -0.975969  0.251385\n",
       "6   0.680582 -0.780029  0.340656\n",
       "7  -0.988534  0.451358 -0.601282\n",
       "8   0.216076 -1.074993  0.266275\n",
       "9  -1.311501  1.422806 -1.548121\n",
       "10  0.403777 -1.015010  0.273379\n",
       "11  0.929375 -0.419808  0.510968"
      ]
     },
     "execution_count": 267,
     "metadata": {},
     "output_type": "execute_result"
    }
   ],
   "source": [
    "normalize_feature(poly_features(X, power=3))"
   ]
  },
  {
   "cell_type": "markdown",
   "metadata": {},
   "source": [
    "# 准备多项式回归数据\n",
    "1. 扩展特征到 8阶,或者你需要的阶数\n",
    "2. 使用 **归一化** 来合并 $x^n$ \n",
    "3. don't forget intercept term"
   ]
  },
  {
   "cell_type": "code",
   "execution_count": 268,
   "metadata": {},
   "outputs": [],
   "source": [
    "def normalize_feature(df):\n",
    "    \"\"\"Applies function along input axis(default 0) of DataFrame.\"\"\"\n",
    "    return df.apply(lambda column: (column - column.mean()) / column.std())\n",
    "#     return (df - df.mean()) / df.std()"
   ]
  },
  {
   "cell_type": "code",
   "execution_count": 269,
   "metadata": {},
   "outputs": [
    {
     "data": {
      "text/plain": [
       "array([[ 1.00000000e+00, -3.62140776e-01, -7.55086688e-01,\n",
       "         1.82225876e-01, -7.06189908e-01,  3.06617917e-01,\n",
       "        -5.90877673e-01,  3.44515797e-01, -5.08481165e-01],\n",
       "       [ 1.00000000e+00, -8.03204845e-01,  1.25825266e-03,\n",
       "        -2.47936991e-01, -3.27023420e-01,  9.33963187e-02,\n",
       "        -4.35817606e-01,  2.55416116e-01, -4.48912493e-01],\n",
       "       [ 1.00000000e+00,  1.37746700e+00,  5.84826715e-01,\n",
       "         1.24976856e+00,  2.45311974e-01,  9.78359696e-01,\n",
       "        -1.21556976e-02,  7.56568484e-01, -1.70352114e-01]])"
      ]
     },
     "execution_count": 269,
     "metadata": {},
     "output_type": "execute_result"
    }
   ],
   "source": [
    "X_poly, Xval_poly, Xtest_poly= prepare_poly_data(X, Xval, Xtest, power=8)\n",
    "X_poly[:3, :]"
   ]
  },
  {
   "cell_type": "markdown",
   "metadata": {},
   "source": [
    "# 画出学习曲线\n",
    "> 首先，我们没有使用正则化，所以 $\\lambda=0$"
   ]
  },
  {
   "cell_type": "code",
   "execution_count": 270,
   "metadata": {},
   "outputs": [],
   "source": [
    "def plot_learning_curve(X, y, Xval, yval, l=0):\n",
    "    training_cost, cv_cost = [], []\n",
    "    m = X.shape[0]\n",
    "\n",
    "    for i in range(1, m + 1):\n",
    "        # regularization applies here for fitting parameters\n",
    "        res = linear_regression_np(X[:i, :], y[:i], l=l)\n",
    "\n",
    "        # remember, when you compute the cost here, you are computing\n",
    "        # non-regularized cost. Regularization is used to fit parameters only\n",
    "        tc = cost(res.x, X[:i, :], y[:i])\n",
    "        cv = cost(res.x, Xval, yval)\n",
    "\n",
    "        training_cost.append(tc)\n",
    "        cv_cost.append(cv)\n",
    "\n",
    "    plt.plot(np.arange(1, m + 1), training_cost, label='training cost')\n",
    "    plt.plot(np.arange(1, m + 1), cv_cost, label='cv cost')\n",
    "    plt.legend(loc=1)\n"
   ]
  },
  {
   "cell_type": "code",
   "execution_count": 271,
   "metadata": {},
   "outputs": [
    {
     "data": {
      "image/png": "[encoded data removed]",
      "text/plain": [
       "<Figure size 432x288 with 1 Axes>"
      ]
     },
     "metadata": {},
     "output_type": "display_data"
    }
   ],
   "source": [
    "plot_learning_curve(X_poly, y, Xval_poly, yval, l=0)\n",
    "plt.show()"
   ]
  },
  {
   "cell_type": "markdown",
   "metadata": {},
   "source": [
    "你可以看到训练的代价太低了，不真实. 这是 **过拟合**了"
   ]
  },
  {
   "cell_type": "markdown",
   "metadata": {},
   "source": [
    "# try $\\lambda=1$"
   ]
  },
  {
   "cell_type": "code",
   "execution_count": 188,
   "metadata": {},
   "outputs": [
    {
     "data": {
      "image/png": "[encoded data removed]",
      "text/plain": [
       "<Figure size 432x288 with 1 Axes>"
      ]
     },
     "metadata": {},
     "output_type": "display_data"
    }
   ],
   "source": [
    "plot_learning_curve(X_poly, y, Xval_poly, yval, l=1)\n",
    "plt.show()"
   ]
  },
  {
   "cell_type": "markdown",
   "metadata": {},
   "source": [
    "\n",
    "训练代价增加了些，不再是0了。\n",
    "也就是说我们减轻**过拟合**"
   ]
  },
  {
   "cell_type": "markdown",
   "metadata": {},
   "source": [
    "# try $\\lambda=100$"
   ]
  },
  {
   "cell_type": "code",
   "execution_count": 284,
   "metadata": {},
   "outputs": [
    {
     "data": {
      "image/png": "[encoded data removed]",
      "text/plain": [
       "<Figure size 432x288 with 1 Axes>"
      ]
     },
     "metadata": {},
     "output_type": "display_data"
    }
   ],
   "source": [
    "plot_learning_curve(X_poly, y, Xval_poly, yval, l=100)\n",
    "plt.show()"
   ]
  },
  {
   "cell_type": "markdown",
   "metadata": {},
   "source": [
    "太多正则化了.  \n",
    "变成 **欠拟合**状态"
   ]
  },
  {
   "cell_type": "markdown",
   "metadata": {},
   "source": [
    "# 找到最佳的 $\\lambda$"
   ]
  },
  {
   "cell_type": "code",
   "execution_count": 272,
   "metadata": {},
   "outputs": [],
   "source": [
    "l_candidate = [0, 0.001, 0.003, 0.01, 0.03, 0.1, 0.3, 1, 3, 10]\n",
    "training_cost, cv_cost = [], []"
   ]
  },
  {
   "cell_type": "code",
   "execution_count": 273,
   "metadata": {},
   "outputs": [],
   "source": [
    "for l in l_candidate:\n",
    "    res = linear_regression_np(X_poly, y, l)\n",
    "    \n",
    "    tc = cost(res.x, X_poly, y)\n",
    "    cv = cost(res.x, Xval_poly, yval)\n",
    "    \n",
    "    training_cost.append(tc)\n",
    "    cv_cost.append(cv)"
   ]
  },
  {
   "cell_type": "code",
   "execution_count": 274,
   "metadata": {},
   "outputs": [
    {
     "data": {
      "image/png": "[encoded data removed]",
      "text/plain": [
       "<Figure size 432x288 with 1 Axes>"
      ]
     },
     "metadata": {},
     "output_type": "display_data"
    }
   ],
   "source": [
    "plt.plot(l_candidate, training_cost, label='training')\n",
    "plt.plot(l_candidate, cv_cost, label='cross validation')\n",
    "plt.legend(loc=2)\n",
    "\n",
    "plt.xlabel('lambda')\n",
    "\n",
    "plt.ylabel('cost')\n",
    "plt.show()"
   ]
  },
  {
   "cell_type": "code",
   "execution_count": 103,
   "metadata": {},
   "outputs": [
    {
     "data": {
      "text/plain": [
       "1"
      ]
     },
     "execution_count": 103,
     "metadata": {},
     "output_type": "execute_result"
    }
   ],
   "source": [
    "# best cv I got from all those candidates\n",
    "l_candidate[np.argmin(cv_cost)]"
   ]
  },
  {
   "cell_type": "code",
   "execution_count": 104,
   "metadata": {},
   "outputs": [
    {
     "name": "stdout",
     "output_type": "stream",
     "text": [
      "test cost(l=0) = 10.122298845834932\n",
      "test cost(l=0.001) = 10.989357236615056\n",
      "test cost(l=0.003) = 11.26731092609127\n",
      "test cost(l=0.01) = 10.881623900868235\n",
      "test cost(l=0.03) = 10.02232745596236\n",
      "test cost(l=0.1) = 8.632062332318977\n",
      "test cost(l=0.3) = 7.336513212074589\n",
      "test cost(l=1) = 7.466265914249742\n",
      "test cost(l=3) = 11.643931713037912\n",
      "test cost(l=10) = 27.7150802906621\n"
     ]
    }
   ],
   "source": [
    "# use test data to compute the cost\n",
    "for l in l_candidate:\n",
    "    theta = linear_regression_np(X_poly, y, l).x\n",
    "    print('test cost(l={}) = {}'.format(l, cost(theta, Xtest_poly, ytest)))"
   ]
  },
  {
   "cell_type": "markdown",
   "metadata": {},
   "source": [
    "调参后， $\\lambda = 0.3$ 是最优选择，这个时候测试代价最小"
   ]
  },
  {
   "cell_type": "code",
   "execution_count": null,
   "metadata": {},
   "outputs": [],
   "source": []
  }
 ],
 "metadata": {
  "anaconda-cloud": {},
  "kernelspec": {
   "display_name": "Python 3",
   "language": "python",
   "name": "python3"
  },
  "language_info": {
   "codemirror_mode": {
    "name": "ipython",
    "version": 3
   },
   "file_extension": ".py",
   "mimetype": "text/x-python",
   "name": "python",
   "nbconvert_exporter": "python",
   "pygments_lexer": "ipython3",
   "version": "3.6.4"
  }
 },
 "nbformat": 4,
 "nbformat_minor": 1
}
