{
  "nbformat": 4,
  "nbformat_minor": 0,
  "metadata": {
    "colab": {
      "name": "Introduction to TensorFlow Part 2 - Debugging and Control Flow.ipynb",
      "provenance": [],
      "collapsed_sections": [],
      "toc_visible": true
    },
    "kernelspec": {
      "name": "python3",
      "display_name": "Python 3"
    }
  },
  "cells": [
    {
      "cell_type": "markdown",
      "metadata": {
        "id": "EheA5_j_cEwc"
      },
      "source": [
        "##### Copyright 2019 Google LLC.\n",
        "\n",
        "Licensed under the Apache License, Version 2.0 (the \"License\");"
      ]
    },
    {
      "cell_type": "code",
      "metadata": {
        "id": "YCriMWd-pRTP"
      },
      "source": [
        "#@title Licensed under the Apache License, Version 2.0 (the \"License\"); { display-mode: \"form\" }\n",
        "# you may not use this file except in compliance with the License.\n",
        "# You may obtain a copy of the License at\n",
        "#\n",
        "# https://www.apache.org/licenses/LICENSE-2.0\n",
        "#\n",
        "# Unless required by applicable law or agreed to in writing, software\n",
        "# distributed under the License is distributed on an \"AS IS\" BASIS,\n",
        "# WITHOUT WARRANTIES OR CONDITIONS OF ANY KIND, either express or implied.\n",
        "# See the License for the specific language governing permissions and\n",
        "# limitations under the License."
      ],
      "execution_count": null,
      "outputs": []
    },
    {
      "cell_type": "markdown",
      "metadata": {
        "id": "OvRwFTkqcp1e"
      },
      "source": [
        "# Introduction to TensorFlow Part 2 - Debugging and Control Flow\n",
        "\n",
        "<table class=\"tfo-notebook-buttons\" align=\"left\">\n",
        "  <td>\n",
        "    <a target=\"_blank\" href=\"https://colab.research.google.com/github/google/tf-quant-finance/blob/master/tf_quant_finance/examples/jupyter_notebooks/Introduction_to_TensorFlow_Part_2_-_Debugging_and_Control_Flow.ipynb\"><img src=\"https://www.tensorflow.org/images/colab_logo_32px.png\" />Run in Google Colab</a>\n",
        "  </td>\n",
        "  <td>\n",
        "    <a target=\"_blank\" href=\"https://github.com/google/tf-quant-finance/blob/master/tf_quant_finance/examples/jupyter_notebooks/Introduction_to_TensorFlow_Part_2_-_Debugging_and_Control_Flow.ipynb\"><img src=\"https://www.tensorflow.org/images/GitHub-Mark-32px.png\" />View source on GitHub</a>\n",
        "  </td>\n",
        "</table>"
      ]
    },
    {
      "cell_type": "code",
      "metadata": {
        "cellView": "form",
        "id": "nPX9m7Q_w_8p"
      },
      "source": [
        "#@title Install and import Libraries for this colab. RUN ME FIRST!\n",
        "!pip install matplotlib\n",
        "import matplotlib.pyplot as plt\n",
        "import tensorflow as tf\n",
        "%load_ext tensorboard\n",
        "\n",
        "tf.disable_eager_execution()\n",
        "\n"
      ],
      "execution_count": null,
      "outputs": []
    },
    {
      "cell_type": "markdown",
      "metadata": {
        "id": "obZHjPQScSqd"
      },
      "source": [
        "# What this notebook covers\n",
        "\n",
        "This notebook carries on from [part 1](https://colab.research.google.com/github/google/tf-quant-finance/blob/master/tf_quant_finance/examples/jupyter_notebooks/Introduction_to_TensorFlow_Part_1_-_Basics.ipynb), and covers the basics of control flow and debugging in tensorflow: \n",
        "*   various debugging aids\n",
        "*   loops\n",
        "*   conditionals\n",
        "\n"
      ]
    },
    {
      "cell_type": "markdown",
      "metadata": {
        "id": "pVLqCYzuDhfT"
      },
      "source": [
        "# Debugging"
      ]
    },
    {
      "cell_type": "markdown",
      "metadata": {
        "id": "_md9nF-EbCcn"
      },
      "source": [
        "## tf.compat.v1.py_function\n",
        "\n",
        "[Full documentation](https://www.tensorflow.org/api_docs/python/tf/py_function)\n",
        "\n",
        "This allows you to wrap a python function as an op. The function can make further calls into tensorflow, allowing e.g. a subset of tensorflow operations to be wrapped up inside the function and inspected using pdb. \n",
        "\n",
        "There are various restrictions involved with this op and \n",
        "*   serializing execution graphs\n",
        "*   executing across distributed machines\n",
        "\n",
        "Read the documentation for more information. As such, this should be viewed as more of a debugging tool, and its use should be avoided in performance-sensitive code.\n",
        "\n",
        "There is also an earlier op, [tf.py_func](https://www.tensorflow.org/api_docs/python/tf/py_func), which is similar, but didn't allow the use of tensorflow within the python function.\n",
        "\n"
      ]
    },
    {
      "cell_type": "code",
      "metadata": {
        "id": "ff0Ex7zkfw6o",
        "colab": {
          "base_uri": "https://localhost:8080/",
          "height": 67
        },
        "outputId": "43701b86-6fd2-496f-c1a2-924d13fd7a91"
      },
      "source": [
        "def plus_one(x):\n",
        "  print(\"input has type %s, value %s\"%(type(x), x))\n",
        "  output = x + 1.0\n",
        "  print(\"output has type %s, value %s\"%(type(output), output))\n",
        "  return output\n",
        "\n",
        "x = tf.constant([1.0,2.0,3.0])\n",
        "\n",
        "a = tf.py_function(plus_one, inp = [x], Tout=tf.float32)\n",
        "\n",
        "with tf.Session() as sess:\n",
        "  print(sess.run(a))"
      ],
      "execution_count": null,
      "outputs": [
        {
          "output_type": "stream",
          "text": [
            "input has type <class 'tensorflow.python.framework.ops.EagerTensor'>, value tf.Tensor([1. 2. 3.], shape=(3,), dtype=float32)\n",
            "output has type <class 'tensorflow.python.framework.ops.EagerTensor'>, value tf.Tensor([2. 3. 4.], shape=(3,), dtype=float32)\n",
            "[2. 3. 4.]\n"
          ],
          "name": "stdout"
        }
      ]
    },
    {
      "cell_type": "markdown",
      "metadata": {
        "id": "NHt4uXO6AadV"
      },
      "source": [
        "## tf.compat.v1.print\n",
        "\n",
        "[Full Documentation](https://www.tensorflow.org/api_docs/python/tf/print)\n",
        "\n",
        "The tf.print op is another useful debugging tool. It takes any number of tensors and python objects, and prints them to stdout. There are a few optional parameters, to control formatting and where it prints to. See the documentation for details."
      ]
    },
    {
      "cell_type": "code",
      "metadata": {
        "id": "cGlMeyLFDq1F",
        "colab": {
          "base_uri": "https://localhost:8080/",
          "height": 34
        },
        "outputId": "8e549997-3979-433b-9c57-346a48e0140e"
      },
      "source": [
        "a = tf.constant(1)\n",
        "print_trace = tf.compat.v1.print(\n",
        "    \"a has value\", a, \", type\", type(a), \"and shape\", tf.shape(a))\n",
        "\n",
        "with tf.Session() as sess:\n",
        "  results = sess.run(print_trace)"
      ],
      "execution_count": null,
      "outputs": [
        {
          "output_type": "stream",
          "text": [
            "a has value 1 , type <class 'tensorflow.python.framework.ops.Tensor'> and shape []\n"
          ],
          "name": "stdout"
        }
      ]
    },
    {
      "cell_type": "markdown",
      "metadata": {
        "id": "Ou9Eph35D-sH"
      },
      "source": [
        "If you're using eager execution mode, that's all you need to know. For deferred execution however there are some significant complications that we'll discuss in the next section.\n",
        "\n",
        "Note that there's a similar op [tf.Print](https://www.tensorflow.org/api_docs/python/tf/Print) (note the capital P), that doesn't suffer from these complications, but the op is deprecated and due to disappear."
      ]
    },
    {
      "cell_type": "markdown",
      "metadata": {
        "id": "pt5xeqm7E8Vq"
      },
      "source": [
        "## tf.compat.v1.control_dependencies\n",
        "[Full Documentation](https://www.tensorflow.org/api_docs/python/tf/control_dependencies)\n",
        "\n",
        "One of the easiest optimisations tensorflow makes when in deferred mode is to eliminate unused ops. So if we run this:"
      ]
    },
    {
      "cell_type": "code",
      "metadata": {
        "id": "8nYVTSB4FMxg"
      },
      "source": [
        "a = tf.constant(1) + tf.constant(1)\n",
        "print_trace = tf.compat.v1.print(\"a is set to \", a)\n",
        "b = a*2\n",
        "\n",
        "with tf.Session() as sess:\n",
        "  results = sess.run(b)"
      ],
      "execution_count": null,
      "outputs": []
    },
    {
      "cell_type": "markdown",
      "metadata": {
        "id": "nkCbBSvLFeXp"
      },
      "source": [
        "Then we don't get any output. Nothing depends on ```print_trace``` (in fact nothing *can* depend on it: tf.print doesn't return anything to depend on), so it gets dropped from the graph before execution occurs. If you want ```print_trace``` to be evaluated, then you need to ask for it explicitly:\n"
      ]
    },
    {
      "cell_type": "code",
      "metadata": {
        "id": "nbPBQ8QKF88O",
        "colab": {
          "base_uri": "https://localhost:8080/",
          "height": 34
        },
        "outputId": "d77ff7d7-42be-45e9-daa9-a095b357fb40"
      },
      "source": [
        "a = tf.constant(1) + tf.constant(1)\n",
        "print_trace = tf.compat.v1.print(\"a is set to\", a)\n",
        "b = a*2\n",
        "\n",
        "with tf.Session() as sess:\n",
        "  results = sess.run((b,print_trace))"
      ],
      "execution_count": null,
      "outputs": [
        {
          "output_type": "stream",
          "text": [
            "a is set to 2\n"
          ],
          "name": "stdout"
        }
      ]
    },
    {
      "cell_type": "markdown",
      "metadata": {
        "id": "6QxaLTRaGfBt"
      },
      "source": [
        "That's fine for our noddy sample above. But obviously has problems as your graph grows larger or the sess.run method gets further removed from the graph definition. The solution for that is ```tf.compat.v1.control_dependencies```. This signals to tensorflow that the a given set of prerequisite ops must be evaluated before any of a set of dependent ops are evaluated. \n"
      ]
    },
    {
      "cell_type": "code",
      "metadata": {
        "id": "2aNBMcvcIuaf",
        "colab": {
          "base_uri": "https://localhost:8080/",
          "height": 50
        },
        "outputId": "32ae4873-d80c-4264-c41e-69f5c0df114c"
      },
      "source": [
        "a = tf.constant(1) + tf.constant(1)\n",
        "print_trace = tf.compat.v1.print(\"a is set to\", a)\n",
        "hello_world = tf.compat.v1.print(\"hello world\")\n",
        "\n",
        "with tf.compat.v1.control_dependencies((print_trace, hello_world)):\n",
        "  # print_trace and hello_world will always be evaluated \n",
        "  # before b can be evaluated\n",
        "  b = a*2\n",
        "c = a*3\n",
        "\n",
        "with tf.Session() as sess:\n",
        "  results = sess.run(b)"
      ],
      "execution_count": null,
      "outputs": [
        {
          "output_type": "stream",
          "text": [
            "hello world\n",
            "a is set to 2\n"
          ],
          "name": "stdout"
        }
      ]
    },
    {
      "cell_type": "markdown",
      "metadata": {
        "id": "lhuVDQ6QJT_X"
      },
      "source": [
        "Note that if all of the dependent ops are pruned from the dependency tree and thus not evaluated, then the prerequisites will not be evaluated either: e.g. if we call ```sess.run(c)``` in the example above,then print_trace and hello_world won't be evaluated\n",
        "\n",
        "\n"
      ]
    },
    {
      "cell_type": "markdown",
      "metadata": {
        "id": "oh_GyeVQZxtf"
      },
      "source": [
        "## tf.debugging.Assert\n",
        "[Full Documentation](https://www.tensorflow.org/api_docs/python/tf/debugging/Assert)\n",
        "\n",
        "In addition to ```tf.compat.v1.print```, the other common use of control_dependencies is ```tf.debugging.Assert```. This op does what you'd expect: checks a boolean condition and aborts execution with a InvalidArgumentError if the condition is not true. Just like ```tf.compat.v1.print```, it is likely to be pruned from the dependency tree and ignored if run in deferred execution mode without control_dependencies"
      ]
    },
    {
      "cell_type": "code",
      "metadata": {
        "id": "qSU7b6fCawNv"
      },
      "source": [
        "x = tf.constant(0.0)\n",
        "\n",
        "with tf.control_dependencies([\n",
        "    tf.debugging.Assert(tf.not_equal(x, 0), [\"Invalid value for x:\",x])]):\n",
        "  y = 2.0 / x\n",
        "\n",
        "\n",
        "with tf.Session() as sess:\n",
        "  try:\n",
        "    results = sess.run(y)\n",
        "  except tf.errors.InvalidArgumentError:\n",
        "    pass"
      ],
      "execution_count": null,
      "outputs": []
    },
    {
      "cell_type": "markdown",
      "metadata": {
        "id": "0sSUmD2HbkLt"
      },
      "source": [
        "There are also a bunch of helper methods, such as \n",
        "*   [assert_equal](https://www.tensorflow.org/api_docs/python/tf/debugging/assert_equal)\n",
        "*   [assert_positive](https://www.tensorflow.org/api_docs/python/tf/debugging/assert_positive)\n",
        "*   [assert_rank_at_least](https://www.tensorflow.org/api_docs/python/tf/debugging/assert_rank_at_least)\n",
        "*   etc.\n",
        "\n",
        "to simplify common uses of ```tf.Assert```\n",
        "\n",
        "So our sample above could have been written as"
      ]
    },
    {
      "cell_type": "code",
      "metadata": {
        "id": "fD9Ih3IacQmn"
      },
      "source": [
        "x = tf.constant(0.0)\n",
        "\n",
        "with tf.compat.v1.control_dependencies([tf.debugging.assert_none_equal(x, 0.0)]):\n",
        "  y = 2.0 / x\n",
        "\n",
        "with tf.Session() as sess:\n",
        "  try:\n",
        "    results = sess.run(y)\n",
        "  except tf.errors.InvalidArgumentError:\n",
        "    pass"
      ],
      "execution_count": null,
      "outputs": []
    },
    {
      "cell_type": "markdown",
      "metadata": {
        "id": "4hgH3jCrD6Sr"
      },
      "source": [
        "# Control Flow"
      ]
    },
    {
      "cell_type": "markdown",
      "metadata": {
        "id": "AVpDI6T9X7sZ"
      },
      "source": [
        "## tf.compat.v1.cond\n",
        "[Full Documentation](https://www.tensorflow.org/api_docs/python/tf/cond)\n",
        "\n",
        "The cond operand is the TensorFlow equivalent of if-else. It takes \n",
        "*   a condition, which must resolve down to a single scalar boolean\n",
        "*   true_fn: a python callable to generate one or more tensors that will be evaluated if the condition is true\n",
        "*   false_fn: same as true_fn, but the resulting tensors will only be evaluated if the the condition is false\n",
        "\n",
        "The condition is evaluated, and if its result is true then, the tensors generated by true_fn are evaluated and those generated by false_fn are abandoned (and vice versa if the result is false). \n",
        "\n",
        "Note that true_fn and false_fn must be python functions (or lambdas), not just tensors:"
      ]
    },
    {
      "cell_type": "code",
      "metadata": {
        "id": "2JfNrC8MFk5k",
        "colab": {
          "base_uri": "https://localhost:8080/",
          "height": 34
        },
        "outputId": "199420bc-a90f-49fd-b59e-89cbc50229b2"
      },
      "source": [
        "# This won't work\n",
        "try:\n",
        "  tf.compat.v1.cond(tf.constant(True), tf.constant(1), tf.constant(2))\n",
        "except TypeError:\n",
        "  pass\n",
        "# You need a callable:\n",
        "tf.cond(tf.constant(True), lambda: tf.constant(1), lambda: tf.constant(2))"
      ],
      "execution_count": null,
      "outputs": [
        {
          "output_type": "execute_result",
          "data": {
            "text/plain": [
              "<tf.Tensor 'cond/Merge:0' shape=() dtype=int32>"
            ]
          },
          "metadata": {
            "tags": []
          },
          "execution_count": 64
        }
      ]
    },
    {
      "cell_type": "markdown",
      "metadata": {
        "id": "zCKbDsTIGllL"
      },
      "source": [
        "The exact order of execution is a little complicated\n",
        "*   true_fn and false_fn are executed just once, when the graph is being built. \n",
        "*   the tensors created by true_fn (if the condition is true) or false_fn (if the condition is false) will be evaluated stricly after the condition has been evaluated\n",
        "*   the tensors created by false_fn (if the condition is true) or true_fn (if the condition is false) will never be evaluated\n",
        "*   any tensors depended on by the tensors generated by true_fn or false_fn will be always evaluated, even regardless of what the condition evaluates to"
      ]
    },
    {
      "cell_type": "code",
      "metadata": {
        "id": "uhqRk_-pkPiF",
        "colab": {
          "base_uri": "https://localhost:8080/",
          "height": 185
        },
        "outputId": "ee80704a-46d6-40ce-9b83-f7b830e61101"
      },
      "source": [
        "def dependency_fn():\n",
        "  print (\"DEPENDENCY: I'm always evaluated at execution time because I'm a dependency\\n\")\n",
        "  return tf.constant(2)\n",
        "dependency = tf.py_function(dependency_fn, inp=[], Tout=tf.int32)\n",
        "\n",
        "def true_op_fn():\n",
        "  print (\"TRUE_OP_FN: I'm evaluated at execution time because condition is True\\n\")\n",
        "  return 1\n",
        "\n",
        "def true_fn():\n",
        "  print (\"TRUE_FN: I'm evaluated at graph building time\")\n",
        "  return tf.py_function(true_op_fn, inp=[], Tout=tf.int32)\n",
        "\n",
        "def false_op_fn(input):\n",
        "  print (\"FALSE_OP_FN: I'm never evaluated because condition isn't False\\n\")\n",
        "  return 1 + input\n",
        "\n",
        "def false_fn():\n",
        "  print (\"FALSE_FN: I'm evaluated at graph building time\")\n",
        "  return tf.py_function(false_op_fn, inp=[dependency], Tout=tf.int32)\n",
        "\n",
        "\n",
        "print(\"****** Building graph\")\n",
        "\n",
        "def predicate_fn():\n",
        "  print(\"PREDICATE: I'm evaluated at execution time\\n\")\n",
        "  return tf.constant(True)\n",
        "x = tf.compat.v1.cond(tf.py_function(predicate_fn, inp=[], Tout=tf.bool), true_fn, false_fn)\n",
        "\n",
        "print(\"****** Executing graph\")\n",
        "with tf.Session() as sess:\n",
        "  sess.run(x)"
      ],
      "execution_count": null,
      "outputs": [
        {
          "output_type": "stream",
          "text": [
            "****** Building graph\n",
            "TRUE_FN: I'm evaluated at graph building time\n",
            "FALSE_FN: I'm evaluated at graph building time\n",
            "****** Executing graph\n",
            "PREDICATE: I'm evaluated at execution time\n",
            "DEPENDENCY: I'm always evaluated at execution time because I'm a dependency\n",
            "TRUE_OP_FN: I'm evaluated at execution time because condition is True\n",
            "\n",
            "\n",
            "\n"
          ],
          "name": "stdout"
        }
      ]
    },
    {
      "cell_type": "markdown",
      "metadata": {
        "id": "HXDMqSKFQozZ"
      },
      "source": [
        "## tf.compat.v1.while_loop\n",
        "[Full Documentation](https://www.tensorflow.org/api_docs/python/tf/while_loop)\n",
        "\n",
        "This is one of the more complicated ops in TensorFlow, so we'll take things step by step. \n",
        "\n",
        "*   The most important parameter is ```loop_vars```. This is a tuple/list of tensors.\n",
        "\n",
        "*   Next up is ```cond``` this is a python callable that should take the same number of arguments as loop_vars contains, and returns a single boolean.\n",
        "\n",
        "*   The third important parameter is ```body```. This is a python callable that should take the same number of arguments as loop_vars contains, and returns a tuple/list of values with the same size as loop_vars, and whose members are of the same type/arity/shape as those in loop_vars.\n",
        "\n",
        "Note that like the ```trun_fn``` and ```false_fn``` parameters discussed in tf.cond above, ```body``` and ```cond``` are callables, that are called once during graph definition.\n",
        "\n",
        "To a first level approximation, the behaviour is then roughtly akin to the following pseudo-code:\n",
        "```python\n",
        "working_vars = loop_vars\n",
        "while(cond(*working_vars)):\n",
        "  working_vars = body(*working_vars)\n",
        "return working_vars\n",
        "```\n",
        "\n",
        "\n",
        "There are optional complications:\n",
        "*   By default, each loop variable must have exactly the same shape/size/arity in all iterations. If you don't want that (e.g. because you want to increase the size in a particular dimnension by 1 each iteration), then you can use ```shape_invariants``` to loosen the checks.\n",
        "*   ```maximum_iterations``` can be used to put an upper bound on number of times the loop is executed, even if cond still returns true\n",
        "\n",
        "The documentation contains some warnings about parallel executions, race conditions and variables getting out of sync. To understand these, we need to beyond the first level approximation above. Consider the following:\n",
        "```python\n",
        "index = tf.constant(1)\n",
        "accumulator = tf.constant(0)\n",
        "\n",
        "loop = tf.compat.v1.while_loop(\n",
        "    loop_vars=[index, accumulator], \n",
        "    cond = lambda idx, acc: idx < 4, \n",
        "    body = lambda idx, acc: [idx+1, acc + idx] )\n",
        "```\n",
        "\n",
        "To a second level approximation, this is equivalent to\n",
        "\n",
        "```python\n",
        "index_initial = tf.constant(1)\n",
        "accumalator_initial = tf.constant(0)\n",
        "\n",
        "index_iteration_1 = tf.add(index_initial, 1)\n",
        "index_iteration_2 = tf.add(index_iteration_1, 1)\n",
        "index_iteration_3 = tf.add(index_iteration_2, 1)\n",
        "\n",
        "accumulator_iteration_1 = tf.add(\n",
        "  accumalator_initial, index_initial)\n",
        "accumulator_iteration_2 = tf.add(\n",
        "  accumulator_iteration_1, index_iteration_1)\n",
        "accumulator_iteration_3 = tf.add(\n",
        "  accumulator_iteration_2, index_iteration_2)\n",
        "\n",
        "loop = [index_iteration_3, accumulator_iteration_3]\n",
        "```\n",
        "(for the full, unapproximated, gory details of the graph, run the code below"
      ]
    },
    {
      "cell_type": "code",
      "metadata": {
        "id": "8iBvXDmZ0C55"
      },
      "source": [
        "tf.reset_default_graph()\n",
        "\n",
        "index = tf.constant(1)\n",
        "accumulator = tf.constant(0)\n",
        "\n",
        "loop = tf.compat.v1.while_loop(\n",
        "    loop_vars=[index, accumulator], \n",
        "    cond = lambda idx, acc: idx < 4, \n",
        "    body = lambda idx, acc: [idx+1, acc + idx] )\n",
        "\n",
        "with tf.Session() as sess:\n",
        "  with tf.summary.FileWriter(\"logs\", sess.graph):\n",
        "    results = sess.run(loop)\n",
        "  \n",
        "%tensorboard --logdir logs"
      ],
      "execution_count": null,
      "outputs": []
    },
    {
      "cell_type": "markdown",
      "metadata": {
        "id": "_t7YDFWe4T3F"
      },
      "source": [
        "but our second-level approximation will do for now).\n",
        "\n",
        "Notice how index_iteration_3 doesn't depend the accumulator values at all. Thus assuming our accumulator tensors were doing something more complicated than adding two integers, and assuming we were running on hardware with plenty of execution units, then it's possible that index_iteration_3 could be fully calculated in one thead, while accumulator_iteration_1 is still being calculated in another.\n",
        "\n",
        "It usually doesn't matter, because loop depends on both index_iteration_3 and accuulator_iteration_3, so it and any dependencies can't start their evaluation before all the accumulation steps have completed. But if you're depending on side effects, or clever operations depending on global state that tensorflow is unware of (e.g. in custom kernels, or py_function ops), then it's something to be aware of. You can use the while_loop's parallel_iterations parameter to restrict the number of iterations that can be calulated in parallel if this does become an issue."
      ]
    },
    {
      "cell_type": "markdown",
      "metadata": {
        "id": "QZvhWzjGhVEi"
      },
      "source": [
        "## Exercise: Mandlebrot set\n",
        "\n",
        "Recall that the Mandelbrot set is defined as the set of values of $c$ in the complex plane such that the recursion:  \n",
        "$z_{n+1} = z_{n}^2 + c$ does not diverge.\n",
        "\n",
        "It is known that all such values of $c$ lie inside the circle of radius $2$ around the origin.\n",
        "\n",
        "So what we'll do is\n",
        "\n",
        "\n",
        "*   Create a 2-d tensor ```c_values``` ranging from -1-1i to 1+1i\n",
        "*   Create a matching 2-d tensor ```Z_values``` with initial values of 0\n",
        "*   Create a third 2-d tensor ```diverged_after``` which contains the iteration number that the matching Z_value's absolute value was > 2 (or MAX_ITERATIONS, if it always stayed below 2)\n",
        "*   Update the above using a while_loop\n",
        "*   display the final values of ```diverged_after``` as an image to see the famous shape\n",
        "\n",
        "\n",
        "\n"
      ]
    },
    {
      "cell_type": "code",
      "metadata": {
        "id": "DZZxF2l0it9-",
        "colab": {
          "base_uri": "https://localhost:8080/",
          "height": 391
        },
        "outputId": "8c83a546-927a-4133-f084-47c71174cec3"
      },
      "source": [
        "MAX_ITERATIONS = 64\n",
        "NUM_PIXELS = 512\n",
        "\n",
        "def GenerateGrid(nX, nY, bottom_left=(-1.0, -1.0), top_right=(1.0, 1.0)):\n",
        "  \"\"\"Generates a complex matrix of shape [nX, nY].\n",
        "  \n",
        "  Generates an evenly spaced grid of complex numbers spanning the rectangle \n",
        "  between the supplied diagonal points. \n",
        "  \n",
        "  Args:\n",
        "    nX: A positive integer. The number of points in the horizontal direction.\n",
        "    nY: A positive integer. The number of points in the vertical direction.\n",
        "    bottom_left: The coordinates of the bottom left corner of the rectangle to\n",
        "      cover.\n",
        "    top_right: The coordinates of the top right corner of the rectangle to\n",
        "      cover.\n",
        "\n",
        "  Returns:\n",
        "    A constant tensor of type complex64 and shape [nX, nY].\n",
        "  \"\"\"\n",
        "  x = tf.linspace(bottom_left[0], top_right[0], nX)\n",
        "  y = tf.linspace(bottom_left[1], top_right[1], nY)\n",
        "  real, imag = tf.meshgrid(x, y)\n",
        "  return tf.cast(tf.complex(real, imag), tf.complex128)\n",
        "\n",
        "c_values = GenerateGrid(NUM_PIXELS, NUM_PIXELS)\n",
        "initial_Z_values = tf.zeros_like(c_values, dtype=tf.complex128)\n",
        "initial_diverged_after = tf.ones_like(c_values, dtype=tf.int32) * MAX_ITERATIONS\n",
        "\n",
        "# You need to put the various values you want to change inside the loop here\n",
        "loop_vars = ()\n",
        "\n",
        "# this needs to take the same number of arguments as loop_vars contains and\n",
        "# return a tuple of equal size with the next iteration's values\n",
        "def body():\n",
        "  # hint: tf.abs will give the magnitude of a complex value\n",
        "  return ()\n",
        "\n",
        "# this just needs to take the same number of arguments as loop_vars contains and\n",
        "# return true (we'll use maximum_iterations to exit the loop)\n",
        "def cond():\n",
        "  return True\n",
        "\n",
        "loop = tf.compat.v1.while_loop(\n",
        "    loop_vars=loop_vars, \n",
        "    body = body, \n",
        "    cond = cond, \n",
        "    maximum_iterations=MAX_ITERATIONS)\n",
        "\n",
        "with tf.Session() as sess:\n",
        "  results = sess.run(loop)\n",
        "\n",
        "## extract the final value of diverged_after from the tuple\n",
        "final_diverged_after = results[-1]\n",
        "plt.matshow(final_diverged_after)\n",
        "pass\n",
        "\n"
      ],
      "execution_count": null,
      "outputs": [
        {
          "output_type": "error",
          "ename": "TypeError",
          "evalue": "ignored",
          "traceback": [
            "\u001b[0;31m---------------------------------------------------------------------------\u001b[0m",
            "\u001b[0;31mTypeError\u001b[0m                                 Traceback (most recent call last)",
            "\u001b[0;32m<ipython-input-15-c9b1d6cf5790>\u001b[0m in \u001b[0;36m<module>\u001b[0;34m()\u001b[0m\n\u001b[1;32m     49\u001b[0m       \u001b[0mbody\u001b[0m \u001b[0;34m=\u001b[0m \u001b[0mbody\u001b[0m\u001b[0;34m,\u001b[0m\u001b[0;34m\u001b[0m\u001b[0;34m\u001b[0m\u001b[0m\n\u001b[1;32m     50\u001b[0m       \u001b[0mcond\u001b[0m \u001b[0;34m=\u001b[0m \u001b[0mcond\u001b[0m\u001b[0;34m,\u001b[0m\u001b[0;34m\u001b[0m\u001b[0;34m\u001b[0m\u001b[0m\n\u001b[0;32m---> 51\u001b[0;31m       maximum_iterations=MAX_ITERATIONS)\n\u001b[0m\u001b[1;32m     52\u001b[0m \u001b[0;34m\u001b[0m\u001b[0m\n\u001b[1;32m     53\u001b[0m   \u001b[0;32mwith\u001b[0m \u001b[0mtf\u001b[0m\u001b[0;34m.\u001b[0m\u001b[0mSession\u001b[0m\u001b[0;34m(\u001b[0m\u001b[0;34m)\u001b[0m \u001b[0;32mas\u001b[0m \u001b[0msess\u001b[0m\u001b[0;34m:\u001b[0m\u001b[0;34m\u001b[0m\u001b[0;34m\u001b[0m\u001b[0m\n",
            "\u001b[0;32m/usr/local/lib/python3.6/dist-packages/tensorflow/python/ops/control_flow_ops.py\u001b[0m in \u001b[0;36mwhile_loop\u001b[0;34m(cond, body, loop_vars, shape_invariants, parallel_iterations, back_prop, swap_memory, name, maximum_iterations, return_same_structure)\u001b[0m\n\u001b[1;32m   3420\u001b[0m         return_same_structure=return_same_structure)\n\u001b[1;32m   3421\u001b[0m \u001b[0;34m\u001b[0m\u001b[0m\n\u001b[0;32m-> 3422\u001b[0;31m   \u001b[0;32mwith\u001b[0m \u001b[0mops\u001b[0m\u001b[0;34m.\u001b[0m\u001b[0mname_scope\u001b[0m\u001b[0;34m(\u001b[0m\u001b[0mname\u001b[0m\u001b[0;34m,\u001b[0m \u001b[0;34m\"while\"\u001b[0m\u001b[0;34m,\u001b[0m \u001b[0mloop_vars\u001b[0m\u001b[0;34m)\u001b[0m\u001b[0;34m:\u001b[0m\u001b[0;34m\u001b[0m\u001b[0;34m\u001b[0m\u001b[0m\n\u001b[0m\u001b[1;32m   3423\u001b[0m     \u001b[0;32mif\u001b[0m \u001b[0;32mnot\u001b[0m \u001b[0mloop_vars\u001b[0m\u001b[0;34m:\u001b[0m\u001b[0;34m\u001b[0m\u001b[0;34m\u001b[0m\u001b[0m\n\u001b[1;32m   3424\u001b[0m       \u001b[0;32mraise\u001b[0m \u001b[0mValueError\u001b[0m\u001b[0;34m(\u001b[0m\u001b[0;34m\"No loop variables provided\"\u001b[0m\u001b[0;34m)\u001b[0m\u001b[0;34m\u001b[0m\u001b[0;34m\u001b[0m\u001b[0m\n",
            "\u001b[0;32m/usr/local/lib/python3.6/dist-packages/tensorflow/python/framework/ops.py\u001b[0m in \u001b[0;36m__init__\u001b[0;34m(self, name, default_name, values)\u001b[0m\n\u001b[1;32m   6455\u001b[0m     \u001b[0mself\u001b[0m\u001b[0;34m.\u001b[0m\u001b[0m_in_eager_mode\u001b[0m \u001b[0;34m=\u001b[0m \u001b[0mself\u001b[0m\u001b[0;34m.\u001b[0m\u001b[0m_ctx\u001b[0m\u001b[0;34m.\u001b[0m\u001b[0mexecuting_eagerly\u001b[0m\u001b[0;34m(\u001b[0m\u001b[0;34m)\u001b[0m\u001b[0;34m\u001b[0m\u001b[0;34m\u001b[0m\u001b[0m\n\u001b[1;32m   6456\u001b[0m     \u001b[0mself\u001b[0m\u001b[0;34m.\u001b[0m\u001b[0m_has_symbolic_input_in_eager\u001b[0m \u001b[0;34m=\u001b[0m \u001b[0;32mFalse\u001b[0m\u001b[0;34m\u001b[0m\u001b[0;34m\u001b[0m\u001b[0m\n\u001b[0;32m-> 6457\u001b[0;31m     \u001b[0;32mif\u001b[0m \u001b[0mself\u001b[0m\u001b[0;34m.\u001b[0m\u001b[0m_values\u001b[0m \u001b[0;32mand\u001b[0m \u001b[0mself\u001b[0m\u001b[0;34m.\u001b[0m\u001b[0m_in_eager_mode\u001b[0m\u001b[0;34m:\u001b[0m\u001b[0;34m\u001b[0m\u001b[0;34m\u001b[0m\u001b[0m\n\u001b[0m\u001b[1;32m   6458\u001b[0m       \u001b[0;31m# The presence of a graph tensor in `self._values` overrides the context.\u001b[0m\u001b[0;34m\u001b[0m\u001b[0;34m\u001b[0m\u001b[0;34m\u001b[0m\u001b[0m\n\u001b[1;32m   6459\u001b[0m       \u001b[0;32mfor\u001b[0m \u001b[0mvalue\u001b[0m \u001b[0;32min\u001b[0m \u001b[0mself\u001b[0m\u001b[0;34m.\u001b[0m\u001b[0m_values\u001b[0m\u001b[0;34m:\u001b[0m\u001b[0;34m\u001b[0m\u001b[0;34m\u001b[0m\u001b[0m\n",
            "\u001b[0;32m/usr/local/lib/python3.6/dist-packages/tensorflow/python/framework/ops.py\u001b[0m in \u001b[0;36m__bool__\u001b[0;34m(self)\u001b[0m\n\u001b[1;32m    688\u001b[0m       \u001b[0;31m`\u001b[0m\u001b[0mTypeError\u001b[0m\u001b[0;31m`\u001b[0m\u001b[0;34m.\u001b[0m\u001b[0;34m\u001b[0m\u001b[0;34m\u001b[0m\u001b[0m\n\u001b[1;32m    689\u001b[0m     \"\"\"\n\u001b[0;32m--> 690\u001b[0;31m     raise TypeError(\"Using a `tf.Tensor` as a Python `bool` is not allowed. \"\n\u001b[0m\u001b[1;32m    691\u001b[0m                     \u001b[0;34m\"Use `if t is not None:` instead of `if t:` to test if a \"\u001b[0m\u001b[0;34m\u001b[0m\u001b[0;34m\u001b[0m\u001b[0m\n\u001b[1;32m    692\u001b[0m                     \u001b[0;34m\"tensor is defined, and use TensorFlow ops such as \"\u001b[0m\u001b[0;34m\u001b[0m\u001b[0;34m\u001b[0m\u001b[0m\n",
            "\u001b[0;31mTypeError\u001b[0m: Using a `tf.Tensor` as a Python `bool` is not allowed. Use `if t is not None:` instead of `if t:` to test if a tensor is defined, and use TensorFlow ops such as tf.cond to execute subgraphs conditioned on the value of a tensor."
          ]
        }
      ]
    },
    {
      "cell_type": "code",
      "metadata": {
        "id": "JSitXn3PyIIe",
        "colab": {
          "base_uri": "https://localhost:8080/",
          "height": 275
        },
        "cellView": "form",
        "outputId": "9774d789-0b88-4fbd-966a-8d49957e2460"
      },
      "source": [
        "#@title Solution: Mandlebrot set (Double-click to reveal)\n",
        "\n",
        "MAX_ITERATIONS = 64\n",
        "NUM_PIXELS = 512\n",
        "\n",
        "def GenerateGrid(nX, nY, bottom_left=(-1.0, -1.0), top_right=(1.0, 1.0)):\n",
        "  \"\"\"Generates a complex matrix of shape [nX, nY].\n",
        "  \n",
        "  Generates an evenly spaced grid of complex numbers spanning the rectangle \n",
        "  between the supplied diagonal points. \n",
        "  \n",
        "  Args:\n",
        "    nX: A positive integer. The number of points in the horizontal direction.\n",
        "    nY: A positive integer. The number of points in the vertical direction.\n",
        "    bottom_left: The coordinates of the bottom left corner of the rectangle to\n",
        "      cover.\n",
        "    top_right: The coordinates of the top right corner of the rectangle to\n",
        "      cover.\n",
        "\n",
        "  Returns:\n",
        "    A constant tensor of type complex64 and shape [nX, nY].\n",
        "  \"\"\"\n",
        "  x = tf.linspace(bottom_left[0], top_right[0], nX)\n",
        "  y = tf.linspace(bottom_left[1], top_right[1], nY)\n",
        "  real, imag = tf.meshgrid(x, y)\n",
        "  return tf.cast(tf.complex(real, imag), tf.complex128)\n",
        "\n",
        "c_values = GenerateGrid(NUM_PIXELS, NUM_PIXELS)\n",
        "initial_Z_values = tf.zeros_like(c_values, dtype=tf.complex128)\n",
        "initial_diverged_after = tf.ones_like(c_values, dtype=tf.int32) * MAX_ITERATIONS\n",
        "\n",
        "# You need to put the various values you want to change inside the loop here\n",
        "loop_vars = (0, initial_Z_values, initial_diverged_after)\n",
        "\n",
        "# this needs to take the same number of arguments as loop_vars contains and\n",
        "# return a tuple of equal size with the next iteration's values\n",
        "def body(iteration_count, Z_values, diverged_after):\n",
        "  new_Z_values = Z_values * Z_values + c_values\n",
        "  has_diverged = tf.abs(new_Z_values) > 2.0\n",
        "  new_diverged_after = tf.minimum(diverged_after, tf.where_v2(\n",
        "      has_diverged, iteration_count, MAX_ITERATIONS))\n",
        "  return (iteration_count+1, new_Z_values, new_diverged_after)\n",
        "\n",
        "# this just needs to take the same number of arguments as loop_vars contains and\n",
        "# return true (we'll use maximum_iterations to exit the loop)\n",
        "def cond(iteration_count, Z_values, diverged_after):\n",
        "  return True\n",
        "\n",
        "loop = tf.compat.v1.while_loop(\n",
        "    loop_vars=loop_vars, \n",
        "    body = body, \n",
        "    cond = cond, \n",
        "    maximum_iterations=MAX_ITERATIONS)\n",
        "\n",
        "with tf.Session() as sess:\n",
        "  results = sess.run(loop)\n",
        "\n",
        "## extract the final value of diverged_after from the tuple\n",
        "final_diverged_after = results[-1]\n",
        "plt.matshow(final_diverged_after)\n",
        "pass"
      ],
      "execution_count": null,
      "outputs": [
        {
          "output_type": "display_data",
          "data": {
            "image/png": "[encoded data removed]",
            "text/plain": [
              "<Figure size 288x288 with 1 Axes>"
            ]
          },
          "metadata": {
            "tags": []
          }
        }
      ]
    }
  ]
}